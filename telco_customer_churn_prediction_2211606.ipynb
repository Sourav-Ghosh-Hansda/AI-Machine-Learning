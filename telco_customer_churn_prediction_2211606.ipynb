{
 "cells": [
  {
   "cell_type": "markdown",
   "id": "215ea530",
   "metadata": {},
   "source": [
    "# Customer Churn Prediction Using Telecom Dataset"
   ]
  },
  {
   "cell_type": "markdown",
   "id": "eb74c357",
   "metadata": {},
   "source": [
    "# Introduction of the problem and the Dataset"
   ]
  },
  {
   "cell_type": "markdown",
   "id": "18443678",
   "metadata": {},
   "source": [
    "Customer churn is a major challenge faced by many businesses, including telecommunication companies. Churn refers to the rate at which customers change or discontinue their services, which leads to a loss of revenue for the businesses. The goal of this project is to develop different predictive models to accurately classify whether a customer is likely to churn based on the available features.\n",
    "For this project the Telco Customer Churn dataset from Kaggle is used which provides valuable insights into customer churn in the telecommunication industry. This dataset contains the information about a fictional telco company that provided home phone and Internet services to 7044 customers in California in the 3rd Quarter (July to September). It indicates which customers have left, stayed, or signed up for their service.\n",
    "By identifying the potential features which contribute to the customer churn we can develop an effective churn prediction models using machine learning which can help businesses take charge to hold on to the customers and improve their satisfaction."
   ]
  },
  {
   "cell_type": "markdown",
   "id": "4cce9a28",
   "metadata": {},
   "source": [
    "Loading the libraries"
   ]
  },
  {
   "cell_type": "code",
   "execution_count": 1,
   "id": "68eff76f",
   "metadata": {},
   "outputs": [],
   "source": [
    "import pandas as pd\n",
    "import numpy as np\n",
    "from sklearn.preprocessing import MinMaxScaler\n",
    "from sklearn.model_selection import train_test_split\n",
    "import seaborn as sns\n",
    "import tensorflow as tf\n",
    "from tensorflow import keras\n",
    "from matplotlib import pyplot as plt\n",
    "%matplotlib inline\n",
    "from sklearn.linear_model import LogisticRegression\n",
    "from sklearn.ensemble import RandomForestClassifier\n",
    "from sklearn.tree import DecisionTreeClassifier\n",
    "from sklearn.svm import SVC\n",
    "from sklearn.tree import DecisionTreeClassifier\n",
    "from sklearn import metrics\n",
    "from sklearn.metrics import accuracy_score, classification_report, confusion_matrix, roc_curve,auc"
   ]
  },
  {
   "cell_type": "markdown",
   "id": "d8130383",
   "metadata": {},
   "source": [
    "# Loading the Dataset\n",
    "[Kaggle DataSet](https://www.kaggle.com/datasets/blastchar/telco-customer-churn)"
   ]
  },
  {
   "cell_type": "code",
   "execution_count": 2,
   "id": "e472bd3f",
   "metadata": {},
   "outputs": [],
   "source": [
    "my_data= pd.read_csv(\"C:/Users/Admin/OneDrive - University of Essex/MA336/project/2211606/customer_churn.csv\")"
   ]
  },
  {
   "cell_type": "markdown",
   "id": "cd041a2e",
   "metadata": {},
   "source": [
    "# Preliminary Analysis of the Dataset"
   ]
  },
  {
   "cell_type": "markdown",
   "id": "7ab13f07",
   "metadata": {},
   "source": [
    "This dataset consists of  7044 rows and 21 columns, like:\n",
    "CustomerID - Unique identifier for each customer/client\n",
    "Gender - the gender of each customer/client (Male or Female)\n",
    "Senior Citizen - if the customer/client is a senior citizen (1 or 0)\n",
    "Partner - if there is a partner with the customer/client  (Yes or No)\n",
    "Dependents - if the customer/client has any dependents (Yes or No)\n",
    "Tenure - Number of months the customer/client has stayed with the service\n",
    "PhoneService - if the customer/client has a phone service (Yes or No) with the company\n",
    "Internet Service - if the customer/client has an internet service provider (DSL, Fiber optic, or No)\n",
    "Streaming TV - if the customer/client has streaming TV service (Yes or No)\n",
    "Monthly Charges - The amount charged monthly  to the customer/client by the company\n",
    "Total Charges - The total charges the customer/client needs to pay for using the service.\n",
    "Churn - if the customer/client has churned or not (Yes or No)"
   ]
  },
  {
   "cell_type": "code",
   "execution_count": 3,
   "id": "b74c9967",
   "metadata": {
    "scrolled": true
   },
   "outputs": [
    {
     "data": {
      "text/html": [
       "<div>\n",
       "<style scoped>\n",
       "    .dataframe tbody tr th:only-of-type {\n",
       "        vertical-align: middle;\n",
       "    }\n",
       "\n",
       "    .dataframe tbody tr th {\n",
       "        vertical-align: top;\n",
       "    }\n",
       "\n",
       "    .dataframe thead th {\n",
       "        text-align: right;\n",
       "    }\n",
       "</style>\n",
       "<table border=\"1\" class=\"dataframe\">\n",
       "  <thead>\n",
       "    <tr style=\"text-align: right;\">\n",
       "      <th></th>\n",
       "      <th>customerID</th>\n",
       "      <th>gender</th>\n",
       "      <th>SeniorCitizen</th>\n",
       "      <th>Partner</th>\n",
       "      <th>Dependents</th>\n",
       "      <th>tenure</th>\n",
       "      <th>PhoneService</th>\n",
       "      <th>MultipleLines</th>\n",
       "      <th>InternetService</th>\n",
       "      <th>OnlineSecurity</th>\n",
       "      <th>...</th>\n",
       "      <th>DeviceProtection</th>\n",
       "      <th>TechSupport</th>\n",
       "      <th>StreamingTV</th>\n",
       "      <th>StreamingMovies</th>\n",
       "      <th>Contract</th>\n",
       "      <th>PaperlessBilling</th>\n",
       "      <th>PaymentMethod</th>\n",
       "      <th>MonthlyCharges</th>\n",
       "      <th>TotalCharges</th>\n",
       "      <th>Churn</th>\n",
       "    </tr>\n",
       "  </thead>\n",
       "  <tbody>\n",
       "    <tr>\n",
       "      <th>0</th>\n",
       "      <td>7590-VHVEG</td>\n",
       "      <td>Female</td>\n",
       "      <td>0</td>\n",
       "      <td>Yes</td>\n",
       "      <td>No</td>\n",
       "      <td>1</td>\n",
       "      <td>No</td>\n",
       "      <td>No phone service</td>\n",
       "      <td>DSL</td>\n",
       "      <td>No</td>\n",
       "      <td>...</td>\n",
       "      <td>No</td>\n",
       "      <td>No</td>\n",
       "      <td>No</td>\n",
       "      <td>No</td>\n",
       "      <td>Month-to-month</td>\n",
       "      <td>Yes</td>\n",
       "      <td>Electronic check</td>\n",
       "      <td>29.85</td>\n",
       "      <td>29.85</td>\n",
       "      <td>No</td>\n",
       "    </tr>\n",
       "    <tr>\n",
       "      <th>1</th>\n",
       "      <td>5575-GNVDE</td>\n",
       "      <td>Male</td>\n",
       "      <td>0</td>\n",
       "      <td>No</td>\n",
       "      <td>No</td>\n",
       "      <td>34</td>\n",
       "      <td>Yes</td>\n",
       "      <td>No</td>\n",
       "      <td>DSL</td>\n",
       "      <td>Yes</td>\n",
       "      <td>...</td>\n",
       "      <td>Yes</td>\n",
       "      <td>No</td>\n",
       "      <td>No</td>\n",
       "      <td>No</td>\n",
       "      <td>One year</td>\n",
       "      <td>No</td>\n",
       "      <td>Mailed check</td>\n",
       "      <td>56.95</td>\n",
       "      <td>1889.5</td>\n",
       "      <td>No</td>\n",
       "    </tr>\n",
       "    <tr>\n",
       "      <th>2</th>\n",
       "      <td>3668-QPYBK</td>\n",
       "      <td>Male</td>\n",
       "      <td>0</td>\n",
       "      <td>No</td>\n",
       "      <td>No</td>\n",
       "      <td>2</td>\n",
       "      <td>Yes</td>\n",
       "      <td>No</td>\n",
       "      <td>DSL</td>\n",
       "      <td>Yes</td>\n",
       "      <td>...</td>\n",
       "      <td>No</td>\n",
       "      <td>No</td>\n",
       "      <td>No</td>\n",
       "      <td>No</td>\n",
       "      <td>Month-to-month</td>\n",
       "      <td>Yes</td>\n",
       "      <td>Mailed check</td>\n",
       "      <td>53.85</td>\n",
       "      <td>108.15</td>\n",
       "      <td>Yes</td>\n",
       "    </tr>\n",
       "    <tr>\n",
       "      <th>3</th>\n",
       "      <td>7795-CFOCW</td>\n",
       "      <td>Male</td>\n",
       "      <td>0</td>\n",
       "      <td>No</td>\n",
       "      <td>No</td>\n",
       "      <td>45</td>\n",
       "      <td>No</td>\n",
       "      <td>No phone service</td>\n",
       "      <td>DSL</td>\n",
       "      <td>Yes</td>\n",
       "      <td>...</td>\n",
       "      <td>Yes</td>\n",
       "      <td>Yes</td>\n",
       "      <td>No</td>\n",
       "      <td>No</td>\n",
       "      <td>One year</td>\n",
       "      <td>No</td>\n",
       "      <td>Bank transfer (automatic)</td>\n",
       "      <td>42.30</td>\n",
       "      <td>1840.75</td>\n",
       "      <td>No</td>\n",
       "    </tr>\n",
       "    <tr>\n",
       "      <th>4</th>\n",
       "      <td>9237-HQITU</td>\n",
       "      <td>Female</td>\n",
       "      <td>0</td>\n",
       "      <td>No</td>\n",
       "      <td>No</td>\n",
       "      <td>2</td>\n",
       "      <td>Yes</td>\n",
       "      <td>No</td>\n",
       "      <td>Fiber optic</td>\n",
       "      <td>No</td>\n",
       "      <td>...</td>\n",
       "      <td>No</td>\n",
       "      <td>No</td>\n",
       "      <td>No</td>\n",
       "      <td>No</td>\n",
       "      <td>Month-to-month</td>\n",
       "      <td>Yes</td>\n",
       "      <td>Electronic check</td>\n",
       "      <td>70.70</td>\n",
       "      <td>151.65</td>\n",
       "      <td>Yes</td>\n",
       "    </tr>\n",
       "    <tr>\n",
       "      <th>...</th>\n",
       "      <td>...</td>\n",
       "      <td>...</td>\n",
       "      <td>...</td>\n",
       "      <td>...</td>\n",
       "      <td>...</td>\n",
       "      <td>...</td>\n",
       "      <td>...</td>\n",
       "      <td>...</td>\n",
       "      <td>...</td>\n",
       "      <td>...</td>\n",
       "      <td>...</td>\n",
       "      <td>...</td>\n",
       "      <td>...</td>\n",
       "      <td>...</td>\n",
       "      <td>...</td>\n",
       "      <td>...</td>\n",
       "      <td>...</td>\n",
       "      <td>...</td>\n",
       "      <td>...</td>\n",
       "      <td>...</td>\n",
       "      <td>...</td>\n",
       "    </tr>\n",
       "    <tr>\n",
       "      <th>7038</th>\n",
       "      <td>6840-RESVB</td>\n",
       "      <td>Male</td>\n",
       "      <td>0</td>\n",
       "      <td>Yes</td>\n",
       "      <td>Yes</td>\n",
       "      <td>24</td>\n",
       "      <td>Yes</td>\n",
       "      <td>Yes</td>\n",
       "      <td>DSL</td>\n",
       "      <td>Yes</td>\n",
       "      <td>...</td>\n",
       "      <td>Yes</td>\n",
       "      <td>Yes</td>\n",
       "      <td>Yes</td>\n",
       "      <td>Yes</td>\n",
       "      <td>One year</td>\n",
       "      <td>Yes</td>\n",
       "      <td>Mailed check</td>\n",
       "      <td>84.80</td>\n",
       "      <td>1990.5</td>\n",
       "      <td>No</td>\n",
       "    </tr>\n",
       "    <tr>\n",
       "      <th>7039</th>\n",
       "      <td>2234-XADUH</td>\n",
       "      <td>Female</td>\n",
       "      <td>0</td>\n",
       "      <td>Yes</td>\n",
       "      <td>Yes</td>\n",
       "      <td>72</td>\n",
       "      <td>Yes</td>\n",
       "      <td>Yes</td>\n",
       "      <td>Fiber optic</td>\n",
       "      <td>No</td>\n",
       "      <td>...</td>\n",
       "      <td>Yes</td>\n",
       "      <td>No</td>\n",
       "      <td>Yes</td>\n",
       "      <td>Yes</td>\n",
       "      <td>One year</td>\n",
       "      <td>Yes</td>\n",
       "      <td>Credit card (automatic)</td>\n",
       "      <td>103.20</td>\n",
       "      <td>7362.9</td>\n",
       "      <td>No</td>\n",
       "    </tr>\n",
       "    <tr>\n",
       "      <th>7040</th>\n",
       "      <td>4801-JZAZL</td>\n",
       "      <td>Female</td>\n",
       "      <td>0</td>\n",
       "      <td>Yes</td>\n",
       "      <td>Yes</td>\n",
       "      <td>11</td>\n",
       "      <td>No</td>\n",
       "      <td>No phone service</td>\n",
       "      <td>DSL</td>\n",
       "      <td>Yes</td>\n",
       "      <td>...</td>\n",
       "      <td>No</td>\n",
       "      <td>No</td>\n",
       "      <td>No</td>\n",
       "      <td>No</td>\n",
       "      <td>Month-to-month</td>\n",
       "      <td>Yes</td>\n",
       "      <td>Electronic check</td>\n",
       "      <td>29.60</td>\n",
       "      <td>346.45</td>\n",
       "      <td>No</td>\n",
       "    </tr>\n",
       "    <tr>\n",
       "      <th>7041</th>\n",
       "      <td>8361-LTMKD</td>\n",
       "      <td>Male</td>\n",
       "      <td>1</td>\n",
       "      <td>Yes</td>\n",
       "      <td>No</td>\n",
       "      <td>4</td>\n",
       "      <td>Yes</td>\n",
       "      <td>Yes</td>\n",
       "      <td>Fiber optic</td>\n",
       "      <td>No</td>\n",
       "      <td>...</td>\n",
       "      <td>No</td>\n",
       "      <td>No</td>\n",
       "      <td>No</td>\n",
       "      <td>No</td>\n",
       "      <td>Month-to-month</td>\n",
       "      <td>Yes</td>\n",
       "      <td>Mailed check</td>\n",
       "      <td>74.40</td>\n",
       "      <td>306.6</td>\n",
       "      <td>Yes</td>\n",
       "    </tr>\n",
       "    <tr>\n",
       "      <th>7042</th>\n",
       "      <td>3186-AJIEK</td>\n",
       "      <td>Male</td>\n",
       "      <td>0</td>\n",
       "      <td>No</td>\n",
       "      <td>No</td>\n",
       "      <td>66</td>\n",
       "      <td>Yes</td>\n",
       "      <td>No</td>\n",
       "      <td>Fiber optic</td>\n",
       "      <td>Yes</td>\n",
       "      <td>...</td>\n",
       "      <td>Yes</td>\n",
       "      <td>Yes</td>\n",
       "      <td>Yes</td>\n",
       "      <td>Yes</td>\n",
       "      <td>Two year</td>\n",
       "      <td>Yes</td>\n",
       "      <td>Bank transfer (automatic)</td>\n",
       "      <td>105.65</td>\n",
       "      <td>6844.5</td>\n",
       "      <td>No</td>\n",
       "    </tr>\n",
       "  </tbody>\n",
       "</table>\n",
       "<p>7043 rows × 21 columns</p>\n",
       "</div>"
      ],
      "text/plain": [
       "      customerID  gender  SeniorCitizen Partner Dependents  tenure  \\\n",
       "0     7590-VHVEG  Female              0     Yes         No       1   \n",
       "1     5575-GNVDE    Male              0      No         No      34   \n",
       "2     3668-QPYBK    Male              0      No         No       2   \n",
       "3     7795-CFOCW    Male              0      No         No      45   \n",
       "4     9237-HQITU  Female              0      No         No       2   \n",
       "...          ...     ...            ...     ...        ...     ...   \n",
       "7038  6840-RESVB    Male              0     Yes        Yes      24   \n",
       "7039  2234-XADUH  Female              0     Yes        Yes      72   \n",
       "7040  4801-JZAZL  Female              0     Yes        Yes      11   \n",
       "7041  8361-LTMKD    Male              1     Yes         No       4   \n",
       "7042  3186-AJIEK    Male              0      No         No      66   \n",
       "\n",
       "     PhoneService     MultipleLines InternetService OnlineSecurity  ...  \\\n",
       "0              No  No phone service             DSL             No  ...   \n",
       "1             Yes                No             DSL            Yes  ...   \n",
       "2             Yes                No             DSL            Yes  ...   \n",
       "3              No  No phone service             DSL            Yes  ...   \n",
       "4             Yes                No     Fiber optic             No  ...   \n",
       "...           ...               ...             ...            ...  ...   \n",
       "7038          Yes               Yes             DSL            Yes  ...   \n",
       "7039          Yes               Yes     Fiber optic             No  ...   \n",
       "7040           No  No phone service             DSL            Yes  ...   \n",
       "7041          Yes               Yes     Fiber optic             No  ...   \n",
       "7042          Yes                No     Fiber optic            Yes  ...   \n",
       "\n",
       "     DeviceProtection TechSupport StreamingTV StreamingMovies        Contract  \\\n",
       "0                  No          No          No              No  Month-to-month   \n",
       "1                 Yes          No          No              No        One year   \n",
       "2                  No          No          No              No  Month-to-month   \n",
       "3                 Yes         Yes          No              No        One year   \n",
       "4                  No          No          No              No  Month-to-month   \n",
       "...               ...         ...         ...             ...             ...   \n",
       "7038              Yes         Yes         Yes             Yes        One year   \n",
       "7039              Yes          No         Yes             Yes        One year   \n",
       "7040               No          No          No              No  Month-to-month   \n",
       "7041               No          No          No              No  Month-to-month   \n",
       "7042              Yes         Yes         Yes             Yes        Two year   \n",
       "\n",
       "     PaperlessBilling              PaymentMethod MonthlyCharges  TotalCharges  \\\n",
       "0                 Yes           Electronic check          29.85         29.85   \n",
       "1                  No               Mailed check          56.95        1889.5   \n",
       "2                 Yes               Mailed check          53.85        108.15   \n",
       "3                  No  Bank transfer (automatic)          42.30       1840.75   \n",
       "4                 Yes           Electronic check          70.70        151.65   \n",
       "...               ...                        ...            ...           ...   \n",
       "7038              Yes               Mailed check          84.80        1990.5   \n",
       "7039              Yes    Credit card (automatic)         103.20        7362.9   \n",
       "7040              Yes           Electronic check          29.60        346.45   \n",
       "7041              Yes               Mailed check          74.40         306.6   \n",
       "7042              Yes  Bank transfer (automatic)         105.65        6844.5   \n",
       "\n",
       "     Churn  \n",
       "0       No  \n",
       "1       No  \n",
       "2      Yes  \n",
       "3       No  \n",
       "4      Yes  \n",
       "...    ...  \n",
       "7038    No  \n",
       "7039    No  \n",
       "7040    No  \n",
       "7041   Yes  \n",
       "7042    No  \n",
       "\n",
       "[7043 rows x 21 columns]"
      ]
     },
     "execution_count": 3,
     "metadata": {},
     "output_type": "execute_result"
    }
   ],
   "source": [
    "my_data"
   ]
  },
  {
   "cell_type": "code",
   "execution_count": 4,
   "id": "cb8b02a0",
   "metadata": {},
   "outputs": [
    {
     "data": {
      "text/html": [
       "<div>\n",
       "<style scoped>\n",
       "    .dataframe tbody tr th:only-of-type {\n",
       "        vertical-align: middle;\n",
       "    }\n",
       "\n",
       "    .dataframe tbody tr th {\n",
       "        vertical-align: top;\n",
       "    }\n",
       "\n",
       "    .dataframe thead th {\n",
       "        text-align: right;\n",
       "    }\n",
       "</style>\n",
       "<table border=\"1\" class=\"dataframe\">\n",
       "  <thead>\n",
       "    <tr style=\"text-align: right;\">\n",
       "      <th></th>\n",
       "      <th>SeniorCitizen</th>\n",
       "      <th>tenure</th>\n",
       "      <th>MonthlyCharges</th>\n",
       "    </tr>\n",
       "  </thead>\n",
       "  <tbody>\n",
       "    <tr>\n",
       "      <th>count</th>\n",
       "      <td>7043.000000</td>\n",
       "      <td>7043.000000</td>\n",
       "      <td>7043.000000</td>\n",
       "    </tr>\n",
       "    <tr>\n",
       "      <th>mean</th>\n",
       "      <td>0.162147</td>\n",
       "      <td>32.371149</td>\n",
       "      <td>64.761692</td>\n",
       "    </tr>\n",
       "    <tr>\n",
       "      <th>std</th>\n",
       "      <td>0.368612</td>\n",
       "      <td>24.559481</td>\n",
       "      <td>30.090047</td>\n",
       "    </tr>\n",
       "    <tr>\n",
       "      <th>min</th>\n",
       "      <td>0.000000</td>\n",
       "      <td>0.000000</td>\n",
       "      <td>18.250000</td>\n",
       "    </tr>\n",
       "    <tr>\n",
       "      <th>25%</th>\n",
       "      <td>0.000000</td>\n",
       "      <td>9.000000</td>\n",
       "      <td>35.500000</td>\n",
       "    </tr>\n",
       "    <tr>\n",
       "      <th>50%</th>\n",
       "      <td>0.000000</td>\n",
       "      <td>29.000000</td>\n",
       "      <td>70.350000</td>\n",
       "    </tr>\n",
       "    <tr>\n",
       "      <th>75%</th>\n",
       "      <td>0.000000</td>\n",
       "      <td>55.000000</td>\n",
       "      <td>89.850000</td>\n",
       "    </tr>\n",
       "    <tr>\n",
       "      <th>max</th>\n",
       "      <td>1.000000</td>\n",
       "      <td>72.000000</td>\n",
       "      <td>118.750000</td>\n",
       "    </tr>\n",
       "  </tbody>\n",
       "</table>\n",
       "</div>"
      ],
      "text/plain": [
       "       SeniorCitizen       tenure  MonthlyCharges\n",
       "count    7043.000000  7043.000000     7043.000000\n",
       "mean        0.162147    32.371149       64.761692\n",
       "std         0.368612    24.559481       30.090047\n",
       "min         0.000000     0.000000       18.250000\n",
       "25%         0.000000     9.000000       35.500000\n",
       "50%         0.000000    29.000000       70.350000\n",
       "75%         0.000000    55.000000       89.850000\n",
       "max         1.000000    72.000000      118.750000"
      ]
     },
     "execution_count": 4,
     "metadata": {},
     "output_type": "execute_result"
    }
   ],
   "source": [
    "my_data.describe()"
   ]
  },
  {
   "cell_type": "markdown",
   "id": "52402772",
   "metadata": {},
   "source": [
    "Visualizing the target variable 'Churn'"
   ]
  },
  {
   "cell_type": "code",
   "execution_count": 5,
   "id": "de8653a1",
   "metadata": {
    "scrolled": true
   },
   "outputs": [
    {
     "name": "stdout",
     "output_type": "stream",
     "text": [
      "26.54\n",
      "73.46\n"
     ]
    },
    {
     "data": {
      "image/png": "[encoded data removed]",
      "text/plain": [
       "<Figure size 600x200 with 1 Axes>"
      ]
     },
     "metadata": {},
     "output_type": "display_data"
    }
   ],
   "source": [
    "# customers who will churn\n",
    "yes_churn_count = my_data[my_data.Churn == 'Yes'].shape[0]\n",
    "# customers who will not churn \n",
    "no_churn_count = my_data[my_data.Churn == 'No'].shape[0]\n",
    "# Percentage of customers that will churn\n",
    "yes_churn_percent = round((yes_churn_count / (yes_churn_count + no_churn_count) * 100),2)\n",
    "# Percentage of customers that will not churn (retain)\n",
    "no_churn_percent = round((no_churn_count / (yes_churn_count + no_churn_count) * 100 ),2)\n",
    "plt.figure(figsize=(6, 2))\n",
    "sns.countplot(x='Churn', data=my_data)\n",
    "plt.title('Churn Distribution')\n",
    "plt.show\n",
    "print(yes_churn_percent)\n",
    "print(no_churn_percent )"
   ]
  },
  {
   "cell_type": "markdown",
   "id": "55e28db6",
   "metadata": {},
   "source": [
    "73.46% customers didn't churn where as 26.54% of customers churned"
   ]
  },
  {
   "cell_type": "markdown",
   "id": "86afd141",
   "metadata": {},
   "source": [
    "Visualizing the categorical columns "
   ]
  },
  {
   "cell_type": "markdown",
   "id": "b72289e1",
   "metadata": {},
   "source": [
    "Churn on Gender"
   ]
  },
  {
   "cell_type": "code",
   "execution_count": 6,
   "id": "5475ccc7",
   "metadata": {
    "scrolled": true
   },
   "outputs": [
    {
     "data": {
      "text/plain": [
       "Text(0.5, 1.0, 'Genders on customer churn')"
      ]
     },
     "execution_count": 6,
     "metadata": {},
     "output_type": "execute_result"
    },
    {
     "data": {
      "image/png": "[encoded data removed]",
      "text/plain": [
       "<Figure size 1000x300 with 1 Axes>"
      ]
     },
     "metadata": {},
     "output_type": "display_data"
    }
   ],
   "source": [
    "plt.figure(figsize=(10,3))\n",
    "churn_by_gender_plot = sns.countplot(x= 'gender', hue='Churn', data=my_data)\n",
    "churn_by_gender_plot.set_title('Genders on customer churn')"
   ]
  },
  {
   "cell_type": "markdown",
   "id": "1644e35c",
   "metadata": {},
   "source": [
    "Churn on Senior Citizens"
   ]
  },
  {
   "cell_type": "code",
   "execution_count": 7,
   "id": "402e4b31",
   "metadata": {},
   "outputs": [
    {
     "data": {
      "text/plain": [
       "Text(0.5, 0, 'SeniorCitizens(0: No, 1: Yes)')"
      ]
     },
     "execution_count": 7,
     "metadata": {},
     "output_type": "execute_result"
    },
    {
     "data": {
      "image/png": "[encoded data removed]",
      "text/plain": [
       "<Figure size 1000x600 with 1 Axes>"
      ]
     },
     "metadata": {},
     "output_type": "display_data"
    }
   ],
   "source": [
    "plt.figure(figsize=(10,6))\n",
    "ax = sns.countplot(x= 'SeniorCitizen', hue='Churn', data=my_data)\n",
    "ax.set_title(f'SeniorCitizens churning')\n",
    "plt.xlabel('SeniorCitizens(0: No, 1: Yes)')"
   ]
  },
  {
   "cell_type": "markdown",
   "id": "2ff40923",
   "metadata": {},
   "source": [
    "Churn on Internet Service  "
   ]
  },
  {
   "cell_type": "code",
   "execution_count": 8,
   "id": "15c8f4d4",
   "metadata": {},
   "outputs": [
    {
     "data": {
      "text/plain": [
       "Text(0.5, 1.0, 'How internet service affects customer churn')"
      ]
     },
     "execution_count": 8,
     "metadata": {},
     "output_type": "execute_result"
    },
    {
     "data": {
      "image/png": "[encoded data removed]",
      "text/plain": [
       "<Figure size 1000x600 with 1 Axes>"
      ]
     },
     "metadata": {},
     "output_type": "display_data"
    }
   ],
   "source": [
    "plt.figure(figsize=(10,6))\n",
    "ax = sns.countplot(x= 'InternetService', hue='Churn', data=my_data)\n",
    "ax.set_title(f'How internet service affects customer churn')"
   ]
  },
  {
   "cell_type": "markdown",
   "id": "b78b542d",
   "metadata": {},
   "source": [
    "Churn on Tenure"
   ]
  },
  {
   "cell_type": "code",
   "execution_count": 9,
   "id": "3e3a69a0",
   "metadata": {},
   "outputs": [
    {
     "data": {
      "text/plain": [
       "<matplotlib.legend.Legend at 0x2497ead21c0>"
      ]
     },
     "execution_count": 9,
     "metadata": {},
     "output_type": "execute_result"
    },
    {
     "data": {
      "image/png": "[encoded data removed]",
      "text/plain": [
       "<Figure size 1000x600 with 1 Axes>"
      ]
     },
     "metadata": {},
     "output_type": "display_data"
    }
   ],
   "source": [
    "yes_tenure_churn = my_data[my_data.Churn == 'Yes'].tenure\n",
    "no_tenure_churn = my_data[my_data.Churn == 'No'].tenure\n",
    "\n",
    "plt.figure(figsize=(10,6))\n",
    "plt.hist([yes_tenure_churn, no_tenure_churn], color=['red', 'blue'], label= ['Leaving', 'Staying'])\n",
    "plt.xlabel('Number of Months(Tenure)')\n",
    "plt.ylabel('Number of Customers')\n",
    "plt.title('Customers Staying vs Leaving Based on Tenure')\n",
    "plt.legend()"
   ]
  },
  {
   "cell_type": "markdown",
   "id": "7a28bb51",
   "metadata": {},
   "source": [
    "Churn on Monthly Charges  "
   ]
  },
  {
   "cell_type": "code",
   "execution_count": 10,
   "id": "caba23f1",
   "metadata": {
    "scrolled": true
   },
   "outputs": [
    {
     "data": {
      "text/plain": [
       "<matplotlib.legend.Legend at 0x2497ecb98b0>"
      ]
     },
     "execution_count": 10,
     "metadata": {},
     "output_type": "execute_result"
    },
    {
     "data": {
      "image/png": "[encoded data removed]",
      "text/plain": [
       "<Figure size 1000x300 with 1 Axes>"
      ]
     },
     "metadata": {},
     "output_type": "display_data"
    }
   ],
   "source": [
    "yes_monthly_charges_churn = my_data[my_data.Churn == 'Yes'].MonthlyCharges\n",
    "no_monthly_charges_churn = my_data[my_data.Churn == 'No'].MonthlyCharges\n",
    "\n",
    "\n",
    "plt.figure(figsize=(10,3))\n",
    "plt.hist([yes_monthly_charges_churn, no_monthly_charges_churn], color=['red', 'blue'], label= ['Leaving', 'Staying'])\n",
    "plt.xlabel('Monthly Charges')\n",
    "plt.ylabel('No of Customers')\n",
    "plt.title('Customers Staying vs Leaving Based on Monthly Charges')\n",
    "plt.legend()"
   ]
  },
  {
   "cell_type": "markdown",
   "id": "af3c6177",
   "metadata": {},
   "source": [
    "# Data Cleaning & Preprocessing"
   ]
  },
  {
   "cell_type": "markdown",
   "id": "cf736f59",
   "metadata": {},
   "source": [
    "checking no. of null values in the dataset"
   ]
  },
  {
   "cell_type": "code",
   "execution_count": 11,
   "id": "9dbf5dfd",
   "metadata": {
    "scrolled": true
   },
   "outputs": [
    {
     "name": "stdout",
     "output_type": "stream",
     "text": [
      "customerID          0\n",
      "gender              0\n",
      "SeniorCitizen       0\n",
      "Partner             0\n",
      "Dependents          0\n",
      "tenure              0\n",
      "PhoneService        0\n",
      "MultipleLines       0\n",
      "InternetService     0\n",
      "OnlineSecurity      0\n",
      "OnlineBackup        0\n",
      "DeviceProtection    0\n",
      "TechSupport         0\n",
      "StreamingTV         0\n",
      "StreamingMovies     0\n",
      "Contract            0\n",
      "PaperlessBilling    0\n",
      "PaymentMethod       0\n",
      "MonthlyCharges      0\n",
      "TotalCharges        0\n",
      "Churn               0\n",
      "dtype: int64\n"
     ]
    }
   ],
   "source": [
    "null_counts=my_data.isnull().sum()\n",
    "print(null_counts)"
   ]
  },
  {
   "cell_type": "markdown",
   "id": "1405b051",
   "metadata": {},
   "source": [
    "For all variables,we are getting isnull sum as '0', means that none of the variables have NA values.If there were any NA values in the dataset, we could remove them by using my_data.dropna(subset=my_data.columns, inplace=True)"
   ]
  },
  {
   "cell_type": "markdown",
   "id": "7b5bda54",
   "metadata": {},
   "source": [
    "converting total charges into float because it is an object"
   ]
  },
  {
   "cell_type": "code",
   "execution_count": 12,
   "id": "b7c455ed",
   "metadata": {
    "scrolled": true
   },
   "outputs": [
    {
     "data": {
      "text/plain": [
       "array(['29.85', '1889.5', '108.15', ..., '346.45', '306.6', '6844.5'],\n",
       "      dtype=object)"
      ]
     },
     "execution_count": 12,
     "metadata": {},
     "output_type": "execute_result"
    }
   ],
   "source": [
    "my_data.TotalCharges.values"
   ]
  },
  {
   "cell_type": "markdown",
   "id": "846d978e",
   "metadata": {},
   "source": [
    "the total charges are in a string so converting to numeric,but some values are not numbers but seem to be blank strings "
   ]
  },
  {
   "cell_type": "code",
   "execution_count": 13,
   "id": "160dcf55",
   "metadata": {},
   "outputs": [
    {
     "data": {
      "text/plain": [
       "0       False\n",
       "1       False\n",
       "2       False\n",
       "3       False\n",
       "4       False\n",
       "        ...  \n",
       "7038    False\n",
       "7039    False\n",
       "7040    False\n",
       "7041    False\n",
       "7042    False\n",
       "Name: TotalCharges, Length: 7043, dtype: bool"
      ]
     },
     "execution_count": 13,
     "metadata": {},
     "output_type": "execute_result"
    }
   ],
   "source": [
    "#number of blank strings\n",
    "pd.to_numeric(my_data.TotalCharges,errors='coerce').isnull()"
   ]
  },
  {
   "cell_type": "code",
   "execution_count": 14,
   "id": "f64c018f",
   "metadata": {
    "scrolled": true
   },
   "outputs": [
    {
     "data": {
      "text/plain": [
       "0         29.85\n",
       "1       1889.50\n",
       "2        108.15\n",
       "3       1840.75\n",
       "4        151.65\n",
       "         ...   \n",
       "7038    1990.50\n",
       "7039    7362.90\n",
       "7040     346.45\n",
       "7041     306.60\n",
       "7042    6844.50\n",
       "Name: TotalCharges, Length: 7043, dtype: float64"
      ]
     },
     "execution_count": 14,
     "metadata": {},
     "output_type": "execute_result"
    }
   ],
   "source": [
    "# converted TotalCharges to numbers\n",
    "pd.to_numeric(my_data['TotalCharges'], errors='coerce') # If ‘coerce’, then invalid parsing will be set as NaN."
   ]
  },
  {
   "cell_type": "code",
   "execution_count": 15,
   "id": "50d10adc",
   "metadata": {
    "scrolled": false
   },
   "outputs": [
    {
     "data": {
      "text/html": [
       "<div>\n",
       "<style scoped>\n",
       "    .dataframe tbody tr th:only-of-type {\n",
       "        vertical-align: middle;\n",
       "    }\n",
       "\n",
       "    .dataframe tbody tr th {\n",
       "        vertical-align: top;\n",
       "    }\n",
       "\n",
       "    .dataframe thead th {\n",
       "        text-align: right;\n",
       "    }\n",
       "</style>\n",
       "<table border=\"1\" class=\"dataframe\">\n",
       "  <thead>\n",
       "    <tr style=\"text-align: right;\">\n",
       "      <th></th>\n",
       "      <th>customerID</th>\n",
       "      <th>gender</th>\n",
       "      <th>SeniorCitizen</th>\n",
       "      <th>Partner</th>\n",
       "      <th>Dependents</th>\n",
       "      <th>tenure</th>\n",
       "      <th>PhoneService</th>\n",
       "      <th>MultipleLines</th>\n",
       "      <th>InternetService</th>\n",
       "      <th>OnlineSecurity</th>\n",
       "      <th>...</th>\n",
       "      <th>DeviceProtection</th>\n",
       "      <th>TechSupport</th>\n",
       "      <th>StreamingTV</th>\n",
       "      <th>StreamingMovies</th>\n",
       "      <th>Contract</th>\n",
       "      <th>PaperlessBilling</th>\n",
       "      <th>PaymentMethod</th>\n",
       "      <th>MonthlyCharges</th>\n",
       "      <th>TotalCharges</th>\n",
       "      <th>Churn</th>\n",
       "    </tr>\n",
       "  </thead>\n",
       "  <tbody>\n",
       "    <tr>\n",
       "      <th>488</th>\n",
       "      <td>4472-LVYGI</td>\n",
       "      <td>Female</td>\n",
       "      <td>0</td>\n",
       "      <td>Yes</td>\n",
       "      <td>Yes</td>\n",
       "      <td>0</td>\n",
       "      <td>No</td>\n",
       "      <td>No phone service</td>\n",
       "      <td>DSL</td>\n",
       "      <td>Yes</td>\n",
       "      <td>...</td>\n",
       "      <td>Yes</td>\n",
       "      <td>Yes</td>\n",
       "      <td>Yes</td>\n",
       "      <td>No</td>\n",
       "      <td>Two year</td>\n",
       "      <td>Yes</td>\n",
       "      <td>Bank transfer (automatic)</td>\n",
       "      <td>52.55</td>\n",
       "      <td></td>\n",
       "      <td>No</td>\n",
       "    </tr>\n",
       "    <tr>\n",
       "      <th>753</th>\n",
       "      <td>3115-CZMZD</td>\n",
       "      <td>Male</td>\n",
       "      <td>0</td>\n",
       "      <td>No</td>\n",
       "      <td>Yes</td>\n",
       "      <td>0</td>\n",
       "      <td>Yes</td>\n",
       "      <td>No</td>\n",
       "      <td>No</td>\n",
       "      <td>No internet service</td>\n",
       "      <td>...</td>\n",
       "      <td>No internet service</td>\n",
       "      <td>No internet service</td>\n",
       "      <td>No internet service</td>\n",
       "      <td>No internet service</td>\n",
       "      <td>Two year</td>\n",
       "      <td>No</td>\n",
       "      <td>Mailed check</td>\n",
       "      <td>20.25</td>\n",
       "      <td></td>\n",
       "      <td>No</td>\n",
       "    </tr>\n",
       "    <tr>\n",
       "      <th>936</th>\n",
       "      <td>5709-LVOEQ</td>\n",
       "      <td>Female</td>\n",
       "      <td>0</td>\n",
       "      <td>Yes</td>\n",
       "      <td>Yes</td>\n",
       "      <td>0</td>\n",
       "      <td>Yes</td>\n",
       "      <td>No</td>\n",
       "      <td>DSL</td>\n",
       "      <td>Yes</td>\n",
       "      <td>...</td>\n",
       "      <td>Yes</td>\n",
       "      <td>No</td>\n",
       "      <td>Yes</td>\n",
       "      <td>Yes</td>\n",
       "      <td>Two year</td>\n",
       "      <td>No</td>\n",
       "      <td>Mailed check</td>\n",
       "      <td>80.85</td>\n",
       "      <td></td>\n",
       "      <td>No</td>\n",
       "    </tr>\n",
       "    <tr>\n",
       "      <th>1082</th>\n",
       "      <td>4367-NUYAO</td>\n",
       "      <td>Male</td>\n",
       "      <td>0</td>\n",
       "      <td>Yes</td>\n",
       "      <td>Yes</td>\n",
       "      <td>0</td>\n",
       "      <td>Yes</td>\n",
       "      <td>Yes</td>\n",
       "      <td>No</td>\n",
       "      <td>No internet service</td>\n",
       "      <td>...</td>\n",
       "      <td>No internet service</td>\n",
       "      <td>No internet service</td>\n",
       "      <td>No internet service</td>\n",
       "      <td>No internet service</td>\n",
       "      <td>Two year</td>\n",
       "      <td>No</td>\n",
       "      <td>Mailed check</td>\n",
       "      <td>25.75</td>\n",
       "      <td></td>\n",
       "      <td>No</td>\n",
       "    </tr>\n",
       "    <tr>\n",
       "      <th>1340</th>\n",
       "      <td>1371-DWPAZ</td>\n",
       "      <td>Female</td>\n",
       "      <td>0</td>\n",
       "      <td>Yes</td>\n",
       "      <td>Yes</td>\n",
       "      <td>0</td>\n",
       "      <td>No</td>\n",
       "      <td>No phone service</td>\n",
       "      <td>DSL</td>\n",
       "      <td>Yes</td>\n",
       "      <td>...</td>\n",
       "      <td>Yes</td>\n",
       "      <td>Yes</td>\n",
       "      <td>Yes</td>\n",
       "      <td>No</td>\n",
       "      <td>Two year</td>\n",
       "      <td>No</td>\n",
       "      <td>Credit card (automatic)</td>\n",
       "      <td>56.05</td>\n",
       "      <td></td>\n",
       "      <td>No</td>\n",
       "    </tr>\n",
       "    <tr>\n",
       "      <th>3331</th>\n",
       "      <td>7644-OMVMY</td>\n",
       "      <td>Male</td>\n",
       "      <td>0</td>\n",
       "      <td>Yes</td>\n",
       "      <td>Yes</td>\n",
       "      <td>0</td>\n",
       "      <td>Yes</td>\n",
       "      <td>No</td>\n",
       "      <td>No</td>\n",
       "      <td>No internet service</td>\n",
       "      <td>...</td>\n",
       "      <td>No internet service</td>\n",
       "      <td>No internet service</td>\n",
       "      <td>No internet service</td>\n",
       "      <td>No internet service</td>\n",
       "      <td>Two year</td>\n",
       "      <td>No</td>\n",
       "      <td>Mailed check</td>\n",
       "      <td>19.85</td>\n",
       "      <td></td>\n",
       "      <td>No</td>\n",
       "    </tr>\n",
       "    <tr>\n",
       "      <th>3826</th>\n",
       "      <td>3213-VVOLG</td>\n",
       "      <td>Male</td>\n",
       "      <td>0</td>\n",
       "      <td>Yes</td>\n",
       "      <td>Yes</td>\n",
       "      <td>0</td>\n",
       "      <td>Yes</td>\n",
       "      <td>Yes</td>\n",
       "      <td>No</td>\n",
       "      <td>No internet service</td>\n",
       "      <td>...</td>\n",
       "      <td>No internet service</td>\n",
       "      <td>No internet service</td>\n",
       "      <td>No internet service</td>\n",
       "      <td>No internet service</td>\n",
       "      <td>Two year</td>\n",
       "      <td>No</td>\n",
       "      <td>Mailed check</td>\n",
       "      <td>25.35</td>\n",
       "      <td></td>\n",
       "      <td>No</td>\n",
       "    </tr>\n",
       "    <tr>\n",
       "      <th>4380</th>\n",
       "      <td>2520-SGTTA</td>\n",
       "      <td>Female</td>\n",
       "      <td>0</td>\n",
       "      <td>Yes</td>\n",
       "      <td>Yes</td>\n",
       "      <td>0</td>\n",
       "      <td>Yes</td>\n",
       "      <td>No</td>\n",
       "      <td>No</td>\n",
       "      <td>No internet service</td>\n",
       "      <td>...</td>\n",
       "      <td>No internet service</td>\n",
       "      <td>No internet service</td>\n",
       "      <td>No internet service</td>\n",
       "      <td>No internet service</td>\n",
       "      <td>Two year</td>\n",
       "      <td>No</td>\n",
       "      <td>Mailed check</td>\n",
       "      <td>20.00</td>\n",
       "      <td></td>\n",
       "      <td>No</td>\n",
       "    </tr>\n",
       "    <tr>\n",
       "      <th>5218</th>\n",
       "      <td>2923-ARZLG</td>\n",
       "      <td>Male</td>\n",
       "      <td>0</td>\n",
       "      <td>Yes</td>\n",
       "      <td>Yes</td>\n",
       "      <td>0</td>\n",
       "      <td>Yes</td>\n",
       "      <td>No</td>\n",
       "      <td>No</td>\n",
       "      <td>No internet service</td>\n",
       "      <td>...</td>\n",
       "      <td>No internet service</td>\n",
       "      <td>No internet service</td>\n",
       "      <td>No internet service</td>\n",
       "      <td>No internet service</td>\n",
       "      <td>One year</td>\n",
       "      <td>Yes</td>\n",
       "      <td>Mailed check</td>\n",
       "      <td>19.70</td>\n",
       "      <td></td>\n",
       "      <td>No</td>\n",
       "    </tr>\n",
       "    <tr>\n",
       "      <th>6670</th>\n",
       "      <td>4075-WKNIU</td>\n",
       "      <td>Female</td>\n",
       "      <td>0</td>\n",
       "      <td>Yes</td>\n",
       "      <td>Yes</td>\n",
       "      <td>0</td>\n",
       "      <td>Yes</td>\n",
       "      <td>Yes</td>\n",
       "      <td>DSL</td>\n",
       "      <td>No</td>\n",
       "      <td>...</td>\n",
       "      <td>Yes</td>\n",
       "      <td>Yes</td>\n",
       "      <td>Yes</td>\n",
       "      <td>No</td>\n",
       "      <td>Two year</td>\n",
       "      <td>No</td>\n",
       "      <td>Mailed check</td>\n",
       "      <td>73.35</td>\n",
       "      <td></td>\n",
       "      <td>No</td>\n",
       "    </tr>\n",
       "    <tr>\n",
       "      <th>6754</th>\n",
       "      <td>2775-SEFEE</td>\n",
       "      <td>Male</td>\n",
       "      <td>0</td>\n",
       "      <td>No</td>\n",
       "      <td>Yes</td>\n",
       "      <td>0</td>\n",
       "      <td>Yes</td>\n",
       "      <td>Yes</td>\n",
       "      <td>DSL</td>\n",
       "      <td>Yes</td>\n",
       "      <td>...</td>\n",
       "      <td>No</td>\n",
       "      <td>Yes</td>\n",
       "      <td>No</td>\n",
       "      <td>No</td>\n",
       "      <td>Two year</td>\n",
       "      <td>Yes</td>\n",
       "      <td>Bank transfer (automatic)</td>\n",
       "      <td>61.90</td>\n",
       "      <td></td>\n",
       "      <td>No</td>\n",
       "    </tr>\n",
       "  </tbody>\n",
       "</table>\n",
       "<p>11 rows × 21 columns</p>\n",
       "</div>"
      ],
      "text/plain": [
       "      customerID  gender  SeniorCitizen Partner Dependents  tenure  \\\n",
       "488   4472-LVYGI  Female              0     Yes        Yes       0   \n",
       "753   3115-CZMZD    Male              0      No        Yes       0   \n",
       "936   5709-LVOEQ  Female              0     Yes        Yes       0   \n",
       "1082  4367-NUYAO    Male              0     Yes        Yes       0   \n",
       "1340  1371-DWPAZ  Female              0     Yes        Yes       0   \n",
       "3331  7644-OMVMY    Male              0     Yes        Yes       0   \n",
       "3826  3213-VVOLG    Male              0     Yes        Yes       0   \n",
       "4380  2520-SGTTA  Female              0     Yes        Yes       0   \n",
       "5218  2923-ARZLG    Male              0     Yes        Yes       0   \n",
       "6670  4075-WKNIU  Female              0     Yes        Yes       0   \n",
       "6754  2775-SEFEE    Male              0      No        Yes       0   \n",
       "\n",
       "     PhoneService     MultipleLines InternetService       OnlineSecurity  ...  \\\n",
       "488            No  No phone service             DSL                  Yes  ...   \n",
       "753           Yes                No              No  No internet service  ...   \n",
       "936           Yes                No             DSL                  Yes  ...   \n",
       "1082          Yes               Yes              No  No internet service  ...   \n",
       "1340           No  No phone service             DSL                  Yes  ...   \n",
       "3331          Yes                No              No  No internet service  ...   \n",
       "3826          Yes               Yes              No  No internet service  ...   \n",
       "4380          Yes                No              No  No internet service  ...   \n",
       "5218          Yes                No              No  No internet service  ...   \n",
       "6670          Yes               Yes             DSL                   No  ...   \n",
       "6754          Yes               Yes             DSL                  Yes  ...   \n",
       "\n",
       "         DeviceProtection          TechSupport          StreamingTV  \\\n",
       "488                   Yes                  Yes                  Yes   \n",
       "753   No internet service  No internet service  No internet service   \n",
       "936                   Yes                   No                  Yes   \n",
       "1082  No internet service  No internet service  No internet service   \n",
       "1340                  Yes                  Yes                  Yes   \n",
       "3331  No internet service  No internet service  No internet service   \n",
       "3826  No internet service  No internet service  No internet service   \n",
       "4380  No internet service  No internet service  No internet service   \n",
       "5218  No internet service  No internet service  No internet service   \n",
       "6670                  Yes                  Yes                  Yes   \n",
       "6754                   No                  Yes                   No   \n",
       "\n",
       "          StreamingMovies  Contract PaperlessBilling  \\\n",
       "488                    No  Two year              Yes   \n",
       "753   No internet service  Two year               No   \n",
       "936                   Yes  Two year               No   \n",
       "1082  No internet service  Two year               No   \n",
       "1340                   No  Two year               No   \n",
       "3331  No internet service  Two year               No   \n",
       "3826  No internet service  Two year               No   \n",
       "4380  No internet service  Two year               No   \n",
       "5218  No internet service  One year              Yes   \n",
       "6670                   No  Two year               No   \n",
       "6754                   No  Two year              Yes   \n",
       "\n",
       "                  PaymentMethod MonthlyCharges  TotalCharges Churn  \n",
       "488   Bank transfer (automatic)          52.55                  No  \n",
       "753                Mailed check          20.25                  No  \n",
       "936                Mailed check          80.85                  No  \n",
       "1082               Mailed check          25.75                  No  \n",
       "1340    Credit card (automatic)          56.05                  No  \n",
       "3331               Mailed check          19.85                  No  \n",
       "3826               Mailed check          25.35                  No  \n",
       "4380               Mailed check          20.00                  No  \n",
       "5218               Mailed check          19.70                  No  \n",
       "6670               Mailed check          73.35                  No  \n",
       "6754  Bank transfer (automatic)          61.90                  No  \n",
       "\n",
       "[11 rows x 21 columns]"
      ]
     },
     "execution_count": 15,
     "metadata": {},
     "output_type": "execute_result"
    }
   ],
   "source": [
    "my_data[pd.to_numeric(my_data['TotalCharges'], errors='coerce').isna()]"
   ]
  },
  {
   "cell_type": "code",
   "execution_count": 16,
   "id": "3650f587",
   "metadata": {},
   "outputs": [],
   "source": [
    "# Convert TotalCharges to numeric\n",
    "my_data['TotalCharges'] = pd.to_numeric(my_data['TotalCharges'], errors='coerce')"
   ]
  },
  {
   "cell_type": "code",
   "execution_count": 17,
   "id": "f844f4e3",
   "metadata": {
    "scrolled": true
   },
   "outputs": [
    {
     "data": {
      "text/plain": [
       "(11, 21)"
      ]
     },
     "execution_count": 17,
     "metadata": {},
     "output_type": "execute_result"
    }
   ],
   "source": [
    "# finding the rows where TotalCharges is NA\n",
    "# around 0.16 % of all data\n",
    "my_data[pd.to_numeric(my_data['TotalCharges'], errors='coerce').isna()].shape "
   ]
  },
  {
   "cell_type": "code",
   "execution_count": 18,
   "id": "2f393d3a",
   "metadata": {},
   "outputs": [],
   "source": [
    "my_data.TotalCharges = pd.to_numeric(my_data['TotalCharges'], errors='coerce')"
   ]
  },
  {
   "cell_type": "markdown",
   "id": "80ae85a0",
   "metadata": {},
   "source": [
    "# Feature Selection"
   ]
  },
  {
   "cell_type": "markdown",
   "id": "8ccee2ca",
   "metadata": {},
   "source": [
    "It's not necessary that all the given features are going to help predict customer churn. In our case customer id is one of those features which will not add any value to our analysis or the model's accuracy. So let's remove the customer id column from the dataset."
   ]
  },
  {
   "cell_type": "code",
   "execution_count": 19,
   "id": "24a0b396",
   "metadata": {},
   "outputs": [],
   "source": [
    "# dropping customer ID as it's not needed for this project,so I'll remove it\n",
    "my_data1=my_data.drop(['customerID'], axis=1, inplace=True)"
   ]
  },
  {
   "cell_type": "code",
   "execution_count": 20,
   "id": "fc3e0065",
   "metadata": {},
   "outputs": [],
   "source": [
    "# around 0.16% of data will be dropped \n",
    "my_data1 = my_data.copy()\n",
    "my_data1.dropna(inplace=True)"
   ]
  },
  {
   "cell_type": "code",
   "execution_count": 21,
   "id": "78ec5fdd",
   "metadata": {},
   "outputs": [
    {
     "data": {
      "text/plain": [
       "gender              0\n",
       "SeniorCitizen       0\n",
       "Partner             0\n",
       "Dependents          0\n",
       "tenure              0\n",
       "PhoneService        0\n",
       "MultipleLines       0\n",
       "InternetService     0\n",
       "OnlineSecurity      0\n",
       "OnlineBackup        0\n",
       "DeviceProtection    0\n",
       "TechSupport         0\n",
       "StreamingTV         0\n",
       "StreamingMovies     0\n",
       "Contract            0\n",
       "PaperlessBilling    0\n",
       "PaymentMethod       0\n",
       "MonthlyCharges      0\n",
       "TotalCharges        0\n",
       "Churn               0\n",
       "dtype: int64"
      ]
     },
     "execution_count": 21,
     "metadata": {},
     "output_type": "execute_result"
    }
   ],
   "source": [
    "#calculating the number of missing values\n",
    "my_data1.isna().sum()"
   ]
  },
  {
   "cell_type": "code",
   "execution_count": 22,
   "id": "46c477a2",
   "metadata": {},
   "outputs": [
    {
     "data": {
      "text/plain": [
       "gender               object\n",
       "SeniorCitizen         int64\n",
       "Partner              object\n",
       "Dependents           object\n",
       "tenure                int64\n",
       "PhoneService         object\n",
       "MultipleLines        object\n",
       "InternetService      object\n",
       "OnlineSecurity       object\n",
       "OnlineBackup         object\n",
       "DeviceProtection     object\n",
       "TechSupport          object\n",
       "StreamingTV          object\n",
       "StreamingMovies      object\n",
       "Contract             object\n",
       "PaperlessBilling     object\n",
       "PaymentMethod        object\n",
       "MonthlyCharges      float64\n",
       "TotalCharges        float64\n",
       "Churn                object\n",
       "dtype: object"
      ]
     },
     "execution_count": 22,
     "metadata": {},
     "output_type": "execute_result"
    }
   ],
   "source": [
    "#checking the data types\n",
    "my_data1.dtypes"
   ]
  },
  {
   "cell_type": "markdown",
   "id": "c84c6f34",
   "metadata": {},
   "source": [
    "# Transform Categorical Values "
   ]
  },
  {
   "cell_type": "markdown",
   "id": "6a0e8982",
   "metadata": {},
   "source": [
    "As most of the columns have values 'Yes', 'No' , 'No phone service, 'No internet service' etc\n",
    "We will print all the unique values for categorical columns and then replace the duplicate categories like 'No phone service' and 'No internet service' with simple 'No'.\n",
    "Once we get yes and no categories then, we can convert them into numeric format (Yes: 1, No: 0)\n",
    "This is called as one Hot Encoding."
   ]
  },
  {
   "cell_type": "code",
   "execution_count": 23,
   "id": "bc652667",
   "metadata": {
    "scrolled": false
   },
   "outputs": [
    {
     "name": "stdout",
     "output_type": "stream",
     "text": [
      "gender: ['Female' 'Male']\n",
      "Partner: ['Yes' 'No']\n",
      "Dependents: ['No' 'Yes']\n",
      "PhoneService: ['No' 'Yes']\n",
      "MultipleLines: ['No phone service' 'No' 'Yes']\n",
      "InternetService: ['DSL' 'Fiber optic' 'No']\n",
      "OnlineSecurity: ['No' 'Yes' 'No internet service']\n",
      "OnlineBackup: ['Yes' 'No' 'No internet service']\n",
      "DeviceProtection: ['No' 'Yes' 'No internet service']\n",
      "TechSupport: ['No' 'Yes' 'No internet service']\n",
      "StreamingTV: ['No' 'Yes' 'No internet service']\n",
      "StreamingMovies: ['No' 'Yes' 'No internet service']\n",
      "Contract: ['Month-to-month' 'One year' 'Two year']\n",
      "PaperlessBilling: ['Yes' 'No']\n",
      "PaymentMethod: ['Electronic check' 'Mailed check' 'Bank transfer (automatic)'\n",
      " 'Credit card (automatic)']\n",
      "Churn: ['No' 'Yes']\n"
     ]
    }
   ],
   "source": [
    "def print_unique_values(my_data):\n",
    "       for column in my_data:\n",
    "            if my_data[column].dtypes=='object':\n",
    "                print(f'{column}: {my_data[column].unique()}') \n",
    "print_unique_values(my_data1)"
   ]
  },
  {
   "cell_type": "code",
   "execution_count": 24,
   "id": "7ed16fa6",
   "metadata": {},
   "outputs": [],
   "source": [
    "my_data1.replace('No internet service','No',inplace=True)\n",
    "my_data1.replace('No phone service','No',inplace=True)"
   ]
  },
  {
   "cell_type": "code",
   "execution_count": 25,
   "id": "ec83ee90",
   "metadata": {},
   "outputs": [
    {
     "name": "stdout",
     "output_type": "stream",
     "text": [
      "gender: ['Female' 'Male']\n",
      "Partner: ['Yes' 'No']\n",
      "Dependents: ['No' 'Yes']\n",
      "PhoneService: ['No' 'Yes']\n",
      "MultipleLines: ['No' 'Yes']\n",
      "InternetService: ['DSL' 'Fiber optic' 'No']\n",
      "OnlineSecurity: ['No' 'Yes']\n",
      "OnlineBackup: ['Yes' 'No']\n",
      "DeviceProtection: ['No' 'Yes']\n",
      "TechSupport: ['No' 'Yes']\n",
      "StreamingTV: ['No' 'Yes']\n",
      "StreamingMovies: ['No' 'Yes']\n",
      "Contract: ['Month-to-month' 'One year' 'Two year']\n",
      "PaperlessBilling: ['Yes' 'No']\n",
      "PaymentMethod: ['Electronic check' 'Mailed check' 'Bank transfer (automatic)'\n",
      " 'Credit card (automatic)']\n",
      "Churn: ['No' 'Yes']\n"
     ]
    }
   ],
   "source": [
    "print_unique_values(my_data1)"
   ]
  },
  {
   "cell_type": "code",
   "execution_count": 26,
   "id": "afb3f4be",
   "metadata": {},
   "outputs": [],
   "source": [
    "yes_no_columns = ['Partner','Dependents','PhoneService','MultipleLines','OnlineSecurity','OnlineBackup',\n",
    "                  'DeviceProtection','TechSupport','StreamingTV','StreamingMovies','PaperlessBilling','Churn']\n",
    "for col in yes_no_columns:\n",
    "    my_data1[col].replace({'Yes': 1,'No': 0},inplace=True)"
   ]
  },
  {
   "cell_type": "code",
   "execution_count": 27,
   "id": "4e6d31a3",
   "metadata": {},
   "outputs": [
    {
     "name": "stdout",
     "output_type": "stream",
     "text": [
      "gender: ['Female' 'Male']\n",
      "SeniorCitizen: [0 1]\n",
      "Partner: [1 0]\n",
      "Dependents: [0 1]\n",
      "tenure: [ 1 34  2 45  8 22 10 28 62 13 16 58 49 25 69 52 71 21 12 30 47 72 17 27\n",
      "  5 46 11 70 63 43 15 60 18 66  9  3 31 50 64 56  7 42 35 48 29 65 38 68\n",
      " 32 55 37 36 41  6  4 33 67 23 57 61 14 20 53 40 59 24 44 19 54 51 26 39]\n",
      "PhoneService: [0 1]\n",
      "MultipleLines: [0 1]\n",
      "InternetService: ['DSL' 'Fiber optic' 'No']\n",
      "OnlineSecurity: [0 1]\n",
      "OnlineBackup: [1 0]\n",
      "DeviceProtection: [0 1]\n",
      "TechSupport: [0 1]\n",
      "StreamingTV: [0 1]\n",
      "StreamingMovies: [0 1]\n",
      "Contract: ['Month-to-month' 'One year' 'Two year']\n",
      "PaperlessBilling: [1 0]\n",
      "PaymentMethod: ['Electronic check' 'Mailed check' 'Bank transfer (automatic)'\n",
      " 'Credit card (automatic)']\n",
      "MonthlyCharges: [29.85 56.95 53.85 ... 63.1  44.2  78.7 ]\n",
      "TotalCharges: [  29.85 1889.5   108.15 ...  346.45  306.6  6844.5 ]\n",
      "Churn: [0 1]\n"
     ]
    }
   ],
   "source": [
    "for col in my_data1:\n",
    "    print(f'{col}: {my_data1[col].unique()}') "
   ]
  },
  {
   "cell_type": "code",
   "execution_count": 28,
   "id": "918c4fc4",
   "metadata": {},
   "outputs": [
    {
     "data": {
      "text/plain": [
       "array([1, 0], dtype=int64)"
      ]
     },
     "execution_count": 28,
     "metadata": {},
     "output_type": "execute_result"
    }
   ],
   "source": [
    "my_data1['gender'].replace({'Female':1,'Male':0},inplace=True)\n",
    "my_data1.gender.unique()"
   ]
  },
  {
   "cell_type": "code",
   "execution_count": 29,
   "id": "31a0d082",
   "metadata": {},
   "outputs": [
    {
     "name": "stdout",
     "output_type": "stream",
     "text": [
      "So we have added 7 more columns to our list. New shape : (7032, 27)\n"
     ]
    },
    {
     "data": {
      "text/html": [
       "<div>\n",
       "<style scoped>\n",
       "    .dataframe tbody tr th:only-of-type {\n",
       "        vertical-align: middle;\n",
       "    }\n",
       "\n",
       "    .dataframe tbody tr th {\n",
       "        vertical-align: top;\n",
       "    }\n",
       "\n",
       "    .dataframe thead th {\n",
       "        text-align: right;\n",
       "    }\n",
       "</style>\n",
       "<table border=\"1\" class=\"dataframe\">\n",
       "  <thead>\n",
       "    <tr style=\"text-align: right;\">\n",
       "      <th></th>\n",
       "      <th>gender</th>\n",
       "      <th>SeniorCitizen</th>\n",
       "      <th>Partner</th>\n",
       "      <th>Dependents</th>\n",
       "      <th>tenure</th>\n",
       "      <th>PhoneService</th>\n",
       "      <th>MultipleLines</th>\n",
       "      <th>OnlineSecurity</th>\n",
       "      <th>OnlineBackup</th>\n",
       "      <th>DeviceProtection</th>\n",
       "      <th>...</th>\n",
       "      <th>InternetService_DSL</th>\n",
       "      <th>InternetService_Fiber optic</th>\n",
       "      <th>InternetService_No</th>\n",
       "      <th>Contract_Month-to-month</th>\n",
       "      <th>Contract_One year</th>\n",
       "      <th>Contract_Two year</th>\n",
       "      <th>PaymentMethod_Bank transfer (automatic)</th>\n",
       "      <th>PaymentMethod_Credit card (automatic)</th>\n",
       "      <th>PaymentMethod_Electronic check</th>\n",
       "      <th>PaymentMethod_Mailed check</th>\n",
       "    </tr>\n",
       "  </thead>\n",
       "  <tbody>\n",
       "    <tr>\n",
       "      <th>6940</th>\n",
       "      <td>1</td>\n",
       "      <td>0</td>\n",
       "      <td>1</td>\n",
       "      <td>1</td>\n",
       "      <td>72</td>\n",
       "      <td>0</td>\n",
       "      <td>0</td>\n",
       "      <td>1</td>\n",
       "      <td>1</td>\n",
       "      <td>1</td>\n",
       "      <td>...</td>\n",
       "      <td>True</td>\n",
       "      <td>False</td>\n",
       "      <td>False</td>\n",
       "      <td>False</td>\n",
       "      <td>False</td>\n",
       "      <td>True</td>\n",
       "      <td>False</td>\n",
       "      <td>True</td>\n",
       "      <td>False</td>\n",
       "      <td>False</td>\n",
       "    </tr>\n",
       "    <tr>\n",
       "      <th>775</th>\n",
       "      <td>1</td>\n",
       "      <td>0</td>\n",
       "      <td>1</td>\n",
       "      <td>0</td>\n",
       "      <td>72</td>\n",
       "      <td>1</td>\n",
       "      <td>1</td>\n",
       "      <td>1</td>\n",
       "      <td>1</td>\n",
       "      <td>1</td>\n",
       "      <td>...</td>\n",
       "      <td>False</td>\n",
       "      <td>True</td>\n",
       "      <td>False</td>\n",
       "      <td>False</td>\n",
       "      <td>False</td>\n",
       "      <td>True</td>\n",
       "      <td>False</td>\n",
       "      <td>True</td>\n",
       "      <td>False</td>\n",
       "      <td>False</td>\n",
       "    </tr>\n",
       "    <tr>\n",
       "      <th>2208</th>\n",
       "      <td>1</td>\n",
       "      <td>1</td>\n",
       "      <td>1</td>\n",
       "      <td>0</td>\n",
       "      <td>1</td>\n",
       "      <td>1</td>\n",
       "      <td>1</td>\n",
       "      <td>0</td>\n",
       "      <td>0</td>\n",
       "      <td>1</td>\n",
       "      <td>...</td>\n",
       "      <td>False</td>\n",
       "      <td>True</td>\n",
       "      <td>False</td>\n",
       "      <td>True</td>\n",
       "      <td>False</td>\n",
       "      <td>False</td>\n",
       "      <td>False</td>\n",
       "      <td>False</td>\n",
       "      <td>True</td>\n",
       "      <td>False</td>\n",
       "    </tr>\n",
       "    <tr>\n",
       "      <th>1975</th>\n",
       "      <td>0</td>\n",
       "      <td>0</td>\n",
       "      <td>0</td>\n",
       "      <td>0</td>\n",
       "      <td>21</td>\n",
       "      <td>1</td>\n",
       "      <td>0</td>\n",
       "      <td>0</td>\n",
       "      <td>0</td>\n",
       "      <td>0</td>\n",
       "      <td>...</td>\n",
       "      <td>False</td>\n",
       "      <td>False</td>\n",
       "      <td>True</td>\n",
       "      <td>False</td>\n",
       "      <td>False</td>\n",
       "      <td>True</td>\n",
       "      <td>False</td>\n",
       "      <td>False</td>\n",
       "      <td>False</td>\n",
       "      <td>True</td>\n",
       "    </tr>\n",
       "    <tr>\n",
       "      <th>3211</th>\n",
       "      <td>1</td>\n",
       "      <td>0</td>\n",
       "      <td>0</td>\n",
       "      <td>0</td>\n",
       "      <td>17</td>\n",
       "      <td>1</td>\n",
       "      <td>0</td>\n",
       "      <td>0</td>\n",
       "      <td>0</td>\n",
       "      <td>0</td>\n",
       "      <td>...</td>\n",
       "      <td>False</td>\n",
       "      <td>False</td>\n",
       "      <td>True</td>\n",
       "      <td>False</td>\n",
       "      <td>True</td>\n",
       "      <td>False</td>\n",
       "      <td>False</td>\n",
       "      <td>True</td>\n",
       "      <td>False</td>\n",
       "      <td>False</td>\n",
       "    </tr>\n",
       "  </tbody>\n",
       "</table>\n",
       "<p>5 rows × 27 columns</p>\n",
       "</div>"
      ],
      "text/plain": [
       "      gender  SeniorCitizen  Partner  Dependents  tenure  PhoneService  \\\n",
       "6940       1              0        1           1      72             0   \n",
       "775        1              0        1           0      72             1   \n",
       "2208       1              1        1           0       1             1   \n",
       "1975       0              0        0           0      21             1   \n",
       "3211       1              0        0           0      17             1   \n",
       "\n",
       "      MultipleLines  OnlineSecurity  OnlineBackup  DeviceProtection  ...  \\\n",
       "6940              0               1             1                 1  ...   \n",
       "775               1               1             1                 1  ...   \n",
       "2208              1               0             0                 1  ...   \n",
       "1975              0               0             0                 0  ...   \n",
       "3211              0               0             0                 0  ...   \n",
       "\n",
       "      InternetService_DSL  InternetService_Fiber optic  InternetService_No  \\\n",
       "6940                 True                        False               False   \n",
       "775                 False                         True               False   \n",
       "2208                False                         True               False   \n",
       "1975                False                        False                True   \n",
       "3211                False                        False                True   \n",
       "\n",
       "      Contract_Month-to-month  Contract_One year  Contract_Two year  \\\n",
       "6940                    False              False               True   \n",
       "775                     False              False               True   \n",
       "2208                     True              False              False   \n",
       "1975                    False              False               True   \n",
       "3211                    False               True              False   \n",
       "\n",
       "      PaymentMethod_Bank transfer (automatic)  \\\n",
       "6940                                    False   \n",
       "775                                     False   \n",
       "2208                                    False   \n",
       "1975                                    False   \n",
       "3211                                    False   \n",
       "\n",
       "      PaymentMethod_Credit card (automatic)  PaymentMethod_Electronic check  \\\n",
       "6940                                   True                           False   \n",
       "775                                    True                           False   \n",
       "2208                                  False                            True   \n",
       "1975                                  False                           False   \n",
       "3211                                   True                           False   \n",
       "\n",
       "      PaymentMethod_Mailed check  \n",
       "6940                       False  \n",
       "775                        False  \n",
       "2208                       False  \n",
       "1975                        True  \n",
       "3211                       False  \n",
       "\n",
       "[5 rows x 27 columns]"
      ]
     },
     "execution_count": 29,
     "metadata": {},
     "output_type": "execute_result"
    }
   ],
   "source": [
    "# Create my_data2 for cleaned dataset\n",
    "my_data2 = pd.get_dummies(data=my_data1, columns=['InternetService','Contract','PaymentMethod'])\n",
    "my_data2.columns\n",
    "print(f'So we have added {my_data2.shape[1]- my_data1.shape[1]} more columns to our list. New shape : {my_data2.shape}')\n",
    "my_data2.sample(5)"
   ]
  },
  {
   "cell_type": "markdown",
   "id": "20e2645a",
   "metadata": {},
   "source": [
    "# Scaling & Normalization"
   ]
  },
  {
   "cell_type": "markdown",
   "id": "1dea7f99",
   "metadata": {},
   "source": [
    "Here we are going to identify the features which need scaling and scale them using sklearn's MinMaxScaler. Scaling is used for standardizing the range of input features so that the machine learning model can quickly learn from the data. In this case features  like tenure, MonthlyCharges and TotalCharges need scaling."
   ]
  },
  {
   "cell_type": "code",
   "execution_count": 30,
   "id": "d3e11d2a",
   "metadata": {},
   "outputs": [
    {
     "name": "stdout",
     "output_type": "stream",
     "text": [
      "gender: [1 0]\n",
      "SeniorCitizen: [0 1]\n",
      "Partner: [1 0]\n",
      "Dependents: [0 1]\n",
      "tenure: [0.         0.46478873 0.01408451 0.61971831 0.09859155 0.29577465\n",
      " 0.12676056 0.38028169 0.85915493 0.16901408 0.21126761 0.8028169\n",
      " 0.67605634 0.33802817 0.95774648 0.71830986 0.98591549 0.28169014\n",
      " 0.15492958 0.4084507  0.64788732 1.         0.22535211 0.36619718\n",
      " 0.05633803 0.63380282 0.14084507 0.97183099 0.87323944 0.5915493\n",
      " 0.1971831  0.83098592 0.23943662 0.91549296 0.11267606 0.02816901\n",
      " 0.42253521 0.69014085 0.88732394 0.77464789 0.08450704 0.57746479\n",
      " 0.47887324 0.66197183 0.3943662  0.90140845 0.52112676 0.94366197\n",
      " 0.43661972 0.76056338 0.50704225 0.49295775 0.56338028 0.07042254\n",
      " 0.04225352 0.45070423 0.92957746 0.30985915 0.78873239 0.84507042\n",
      " 0.18309859 0.26760563 0.73239437 0.54929577 0.81690141 0.32394366\n",
      " 0.6056338  0.25352113 0.74647887 0.70422535 0.35211268 0.53521127]\n",
      "PhoneService: [0 1]\n",
      "MultipleLines: [0 1]\n",
      "OnlineSecurity: [0 1]\n",
      "OnlineBackup: [1 0]\n",
      "DeviceProtection: [0 1]\n",
      "TechSupport: [0 1]\n",
      "StreamingTV: [0 1]\n",
      "StreamingMovies: [0 1]\n",
      "PaperlessBilling: [1 0]\n",
      "MonthlyCharges: [0.11542289 0.38507463 0.35422886 ... 0.44626866 0.25820896 0.60149254]\n",
      "TotalCharges: [0.0012751  0.21586661 0.01031041 ... 0.03780868 0.03321025 0.78764136]\n",
      "Churn: [0 1]\n",
      "InternetService_DSL: [ True False]\n",
      "InternetService_Fiber optic: [False  True]\n",
      "InternetService_No: [False  True]\n",
      "Contract_Month-to-month: [ True False]\n",
      "Contract_One year: [False  True]\n",
      "Contract_Two year: [False  True]\n",
      "PaymentMethod_Bank transfer (automatic): [False  True]\n",
      "PaymentMethod_Credit card (automatic): [False  True]\n",
      "PaymentMethod_Electronic check: [ True False]\n",
      "PaymentMethod_Mailed check: [False  True]\n"
     ]
    },
    {
     "data": {
      "text/html": [
       "<div>\n",
       "<style scoped>\n",
       "    .dataframe tbody tr th:only-of-type {\n",
       "        vertical-align: middle;\n",
       "    }\n",
       "\n",
       "    .dataframe tbody tr th {\n",
       "        vertical-align: top;\n",
       "    }\n",
       "\n",
       "    .dataframe thead th {\n",
       "        text-align: right;\n",
       "    }\n",
       "</style>\n",
       "<table border=\"1\" class=\"dataframe\">\n",
       "  <thead>\n",
       "    <tr style=\"text-align: right;\">\n",
       "      <th></th>\n",
       "      <th>tenure</th>\n",
       "      <th>MonthlyCharges</th>\n",
       "      <th>TotalCharges</th>\n",
       "    </tr>\n",
       "  </thead>\n",
       "  <tbody>\n",
       "    <tr>\n",
       "      <th>count</th>\n",
       "      <td>7032.000000</td>\n",
       "      <td>7032.000000</td>\n",
       "      <td>7032.000000</td>\n",
       "    </tr>\n",
       "    <tr>\n",
       "      <th>mean</th>\n",
       "      <td>0.442560</td>\n",
       "      <td>0.463166</td>\n",
       "      <td>0.261309</td>\n",
       "    </tr>\n",
       "    <tr>\n",
       "      <th>std</th>\n",
       "      <td>0.345708</td>\n",
       "      <td>0.299363</td>\n",
       "      <td>0.261571</td>\n",
       "    </tr>\n",
       "    <tr>\n",
       "      <th>min</th>\n",
       "      <td>0.000000</td>\n",
       "      <td>0.000000</td>\n",
       "      <td>0.000000</td>\n",
       "    </tr>\n",
       "    <tr>\n",
       "      <th>25%</th>\n",
       "      <td>0.112676</td>\n",
       "      <td>0.172512</td>\n",
       "      <td>0.044155</td>\n",
       "    </tr>\n",
       "    <tr>\n",
       "      <th>50%</th>\n",
       "      <td>0.394366</td>\n",
       "      <td>0.518408</td>\n",
       "      <td>0.159090</td>\n",
       "    </tr>\n",
       "    <tr>\n",
       "      <th>75%</th>\n",
       "      <td>0.760563</td>\n",
       "      <td>0.712562</td>\n",
       "      <td>0.435719</td>\n",
       "    </tr>\n",
       "    <tr>\n",
       "      <th>max</th>\n",
       "      <td>1.000000</td>\n",
       "      <td>1.000000</td>\n",
       "      <td>1.000000</td>\n",
       "    </tr>\n",
       "  </tbody>\n",
       "</table>\n",
       "</div>"
      ],
      "text/plain": [
       "            tenure  MonthlyCharges  TotalCharges\n",
       "count  7032.000000     7032.000000   7032.000000\n",
       "mean      0.442560        0.463166      0.261309\n",
       "std       0.345708        0.299363      0.261571\n",
       "min       0.000000        0.000000      0.000000\n",
       "25%       0.112676        0.172512      0.044155\n",
       "50%       0.394366        0.518408      0.159090\n",
       "75%       0.760563        0.712562      0.435719\n",
       "max       1.000000        1.000000      1.000000"
      ]
     },
     "execution_count": 30,
     "metadata": {},
     "output_type": "execute_result"
    }
   ],
   "source": [
    "col_to_sl=['tenure','MonthlyCharges',\"TotalCharges\"]\n",
    "scaler=MinMaxScaler()\n",
    "my_data2[col_to_sl]=scaler.fit_transform(my_data2[col_to_sl])\n",
    "for col in my_data2:\n",
    "    print(f'{col}: {my_data2[col].unique()}')\n",
    "my_data2[col_to_sl].describe()"
   ]
  },
  {
   "cell_type": "markdown",
   "id": "7d2a7f86",
   "metadata": {},
   "source": [
    "# Methods"
   ]
  },
  {
   "cell_type": "markdown",
   "id": "04f78201",
   "metadata": {},
   "source": [
    "Algorithms:\n",
    "\n",
    "(i)Logistic Regression\n",
    "\n",
    "(ii)Random Forest\n",
    "\n",
    "(iii)Support Vector Machine(SVM)\n",
    "\n",
    "(iv)Decision Tree\n",
    "\n",
    "(V)Artificial Neural Networks(ANN)"
   ]
  },
  {
   "cell_type": "markdown",
   "id": "64e90d02",
   "metadata": {},
   "source": [
    "# Modeling"
   ]
  },
  {
   "cell_type": "markdown",
   "id": "8dd27d19",
   "metadata": {},
   "source": [
    "Creating train and test dataframes for training and testing respectively. Training dataset will have 80% of the data and testing set will have 20% of the data."
   ]
  },
  {
   "cell_type": "code",
   "execution_count": 31,
   "id": "95ef72b5",
   "metadata": {},
   "outputs": [
    {
     "name": "stdout",
     "output_type": "stream",
     "text": [
      "X_train: (5625, 26), y_train: (5625,)\n",
      "X_test: (1407, 26), y_test: (1407,)\n"
     ]
    }
   ],
   "source": [
    "# Create feature matrix X without label column 'Churn'\n",
    "X = my_data2.drop('Churn',axis = 'columns')\n",
    "# Create label vector y\n",
    "y = my_data2['Churn']\n",
    "\n",
    "X_train, X_test, y_train, y_test = train_test_split(X, y, test_size= 0.2, random_state= 42)\n",
    "print(f'X_train: {X_train.shape}, y_train: {y_train.shape}')\n",
    "print(f'X_test: {X_test.shape}, y_test: {y_test.shape}')"
   ]
  },
  {
   "cell_type": "markdown",
   "id": "674991c0",
   "metadata": {},
   "source": [
    "After splitting the data we create various models"
   ]
  },
  {
   "cell_type": "markdown",
   "id": "0986da5d",
   "metadata": {},
   "source": [
    "Logistic Regression Model"
   ]
  },
  {
   "cell_type": "markdown",
   "id": "7b4d2ad3",
   "metadata": {},
   "source": [
    "It is a statistical modeling technique which is commonly used for solving binary classification problems, where the goal is to predict the probability of an event occurring (in this case, customer churn) based on the input features."
   ]
  },
  {
   "cell_type": "code",
   "execution_count": 32,
   "id": "a33d14b3",
   "metadata": {},
   "outputs": [],
   "source": [
    "lr_model = LogisticRegression()\n",
    "lr_model.fit(X_train, y_train)\n",
    "lr_pred = lr_model.predict(X_test)\n",
    "accuracy_lr = accuracy_score(y_test, lr_pred)\n",
    "classification_report_lr = classification_report(y_test, lr_pred)\n",
    "confusion_matrix_lr = confusion_matrix(y_test, lr_pred)\n",
    "y_pred_prob_lr = lr_model.predict_proba(X_test)[:, 1]\n",
    "fpr_lr, tpr_lr, thresholds_lr = roc_curve(y_test, y_pred_prob_lr)"
   ]
  },
  {
   "cell_type": "markdown",
   "id": "7fc92397",
   "metadata": {},
   "source": [
    "Random Forest Model"
   ]
  },
  {
   "cell_type": "markdown",
   "id": "bb585704",
   "metadata": {},
   "source": [
    "It is an ensemble learning method which combines multiple decision trees to make predictions"
   ]
  },
  {
   "cell_type": "code",
   "execution_count": 33,
   "id": "e4dc62ef",
   "metadata": {},
   "outputs": [],
   "source": [
    "model_rf = RandomForestClassifier(n_estimators=500, oob_score=True, n_jobs=-1,\n",
    "                                  random_state=50, max_features=\"sqrt\",\n",
    "                                  max_leaf_nodes=30)\n",
    "model_rf.fit(X_train, y_train)\n",
    "rf_pred = model_rf.predict(X_test)\n",
    "accuracy_rf = accuracy_score(y_test, rf_pred)\n",
    "classification_report_rf = classification_report(y_test, rf_pred)\n",
    "confusion_matrix_rf = confusion_matrix(y_test, rf_pred)\n",
    "y_pred_prob_rf = model_rf.predict_proba(X_test)[:, 1]\n",
    "fpr_rf, tpr_rf, thresholds_rf = roc_curve(y_test, y_pred_prob_rf)"
   ]
  },
  {
   "cell_type": "markdown",
   "id": "29a6e8a7",
   "metadata": {},
   "source": [
    "Support Vector Machine (SVM) Model"
   ]
  },
  {
   "cell_type": "markdown",
   "id": "61398a21",
   "metadata": {},
   "source": [
    "SVM is a classification algorithm where data points are seperated using hyperplanes."
   ]
  },
  {
   "cell_type": "code",
   "execution_count": 34,
   "id": "74d9c2bb",
   "metadata": {},
   "outputs": [],
   "source": [
    "svm_model = SVC(random_state=1)\n",
    "svm_model.fit(X_train, y_train)\n",
    "svm_pred = svm_model.predict(X_test)\n",
    "accuracy_svm = accuracy_score(y_test, svm_pred)\n",
    "classification_report_svm = classification_report(y_test, svm_pred)\n",
    "confusion_matrix_svm = confusion_matrix(y_test, svm_pred)"
   ]
  },
  {
   "cell_type": "markdown",
   "id": "c7e07acc",
   "metadata": {},
   "source": [
    "Decision Tree Model"
   ]
  },
  {
   "cell_type": "markdown",
   "id": "6a961709",
   "metadata": {},
   "source": [
    "This model creates a flowchart-like structure to classify the data points."
   ]
  },
  {
   "cell_type": "code",
   "execution_count": 35,
   "id": "553215df",
   "metadata": {},
   "outputs": [],
   "source": [
    "dt_model = DecisionTreeClassifier()\n",
    "dt_model.fit(X_train, y_train)\n",
    "dt_pred = dt_model.predict(X_test)\n",
    "accuracy_dt = accuracy_score(y_test, dt_pred)\n",
    "classification_report_dt = classification_report(y_test, dt_pred)\n",
    "confusion_matrix_dt = confusion_matrix(y_test, dt_pred)"
   ]
  },
  {
   "cell_type": "markdown",
   "id": "339eadf4",
   "metadata": {},
   "source": [
    "Artificial Neural Network(ANN)"
   ]
  },
  {
   "cell_type": "markdown",
   "id": "99c3830f",
   "metadata": {},
   "source": [
    "A sequential model using Keras is being used with three dense layers. The first layer has 26 input features, so we will create first layer with 26 neurons and 'relu' activation function, which is followed by the second layer with 15 nodes and a 'relu' activation function and the third output layer with 1 neuron for binary classification with sigmoid activation function.The model is compiled with the Adam optimizer, binary cross-entropy loss, and accuracy as the metrics.\n",
    "\n",
    "The model.fit function is used to train the model on the training data. It runs for 100 epochs, and each epoch shows the loss and accuracy metrics."
   ]
  },
  {
   "cell_type": "code",
   "execution_count": 36,
   "id": "b1dbae72",
   "metadata": {},
   "outputs": [
    {
     "name": "stdout",
     "output_type": "stream",
     "text": [
      "Model: \"sequential\"\n",
      "_________________________________________________________________\n",
      " Layer (type)                Output Shape              Param #   \n",
      "=================================================================\n",
      " dense (Dense)               (None, 26)                702       \n",
      "                                                                 \n",
      " dense_1 (Dense)             (None, 15)                405       \n",
      "                                                                 \n",
      " dense_2 (Dense)             (None, 1)                 16        \n",
      "                                                                 \n",
      "=================================================================\n",
      "Total params: 1,123\n",
      "Trainable params: 1,123\n",
      "Non-trainable params: 0\n",
      "_________________________________________________________________\n"
     ]
    }
   ],
   "source": [
    "model_ann = keras.Sequential([\n",
    "    keras.layers.Dense(26, input_shape=(26,), activation='relu'),\n",
    "    keras.layers.Dense(15, activation='relu'),\n",
    "    keras.layers.Dense(1, activation='sigmoid')\n",
    "])\n",
    "model_ann.compile(optimizer='adam',\n",
    "              loss='binary_crossentropy',\n",
    "              metrics=['accuracy'])\n",
    "model_ann.summary()"
   ]
  },
  {
   "cell_type": "markdown",
   "id": "608a1c20",
   "metadata": {},
   "source": [
    "ANN Model Training"
   ]
  },
  {
   "cell_type": "code",
   "execution_count": 37,
   "id": "01027989",
   "metadata": {},
   "outputs": [
    {
     "name": "stdout",
     "output_type": "stream",
     "text": [
      "Epoch 1/100\n",
      "176/176 [==============================] - 3s 3ms/step - loss: 0.5133 - accuracy: 0.7467\n",
      "Epoch 2/100\n",
      "176/176 [==============================] - 0s 3ms/step - loss: 0.4287 - accuracy: 0.7943\n",
      "Epoch 3/100\n",
      "176/176 [==============================] - 0s 3ms/step - loss: 0.4207 - accuracy: 0.8004\n",
      "Epoch 4/100\n",
      "176/176 [==============================] - 0s 3ms/step - loss: 0.4149 - accuracy: 0.8039\n",
      "Epoch 5/100\n",
      "176/176 [==============================] - 0s 3ms/step - loss: 0.4120 - accuracy: 0.8037\n",
      "Epoch 6/100\n",
      "176/176 [==============================] - 0s 3ms/step - loss: 0.4097 - accuracy: 0.8053\n",
      "Epoch 7/100\n",
      "176/176 [==============================] - 0s 3ms/step - loss: 0.4078 - accuracy: 0.8073\n",
      "Epoch 8/100\n",
      "176/176 [==============================] - 1s 3ms/step - loss: 0.4061 - accuracy: 0.8071\n",
      "Epoch 9/100\n",
      "176/176 [==============================] - 1s 3ms/step - loss: 0.4066 - accuracy: 0.8080\n",
      "Epoch 10/100\n",
      "176/176 [==============================] - 1s 3ms/step - loss: 0.4039 - accuracy: 0.8121\n",
      "Epoch 11/100\n",
      "176/176 [==============================] - 1s 3ms/step - loss: 0.4027 - accuracy: 0.8098\n",
      "Epoch 12/100\n",
      "176/176 [==============================] - 0s 3ms/step - loss: 0.4015 - accuracy: 0.8096\n",
      "Epoch 13/100\n",
      "176/176 [==============================] - 1s 3ms/step - loss: 0.3997 - accuracy: 0.8121\n",
      "Epoch 14/100\n",
      "176/176 [==============================] - 0s 3ms/step - loss: 0.3984 - accuracy: 0.8076\n",
      "Epoch 15/100\n",
      "176/176 [==============================] - 1s 3ms/step - loss: 0.3976 - accuracy: 0.8112\n",
      "Epoch 16/100\n",
      "176/176 [==============================] - 1s 3ms/step - loss: 0.3959 - accuracy: 0.8149\n",
      "Epoch 17/100\n",
      "176/176 [==============================] - 1s 3ms/step - loss: 0.3969 - accuracy: 0.8124\n",
      "Epoch 18/100\n",
      "176/176 [==============================] - 1s 3ms/step - loss: 0.3950 - accuracy: 0.8162\n",
      "Epoch 19/100\n",
      "176/176 [==============================] - 1s 3ms/step - loss: 0.3943 - accuracy: 0.8140\n",
      "Epoch 20/100\n",
      "176/176 [==============================] - 1s 3ms/step - loss: 0.3932 - accuracy: 0.8126\n",
      "Epoch 21/100\n",
      "176/176 [==============================] - 1s 3ms/step - loss: 0.3922 - accuracy: 0.8153\n",
      "Epoch 22/100\n",
      "176/176 [==============================] - 0s 3ms/step - loss: 0.3916 - accuracy: 0.8153\n",
      "Epoch 23/100\n",
      "176/176 [==============================] - 0s 3ms/step - loss: 0.3905 - accuracy: 0.8155\n",
      "Epoch 24/100\n",
      "176/176 [==============================] - 1s 3ms/step - loss: 0.3894 - accuracy: 0.8169\n",
      "Epoch 25/100\n",
      "176/176 [==============================] - 0s 3ms/step - loss: 0.3893 - accuracy: 0.8140\n",
      "Epoch 26/100\n",
      "176/176 [==============================] - 1s 3ms/step - loss: 0.3880 - accuracy: 0.8178\n",
      "Epoch 27/100\n",
      "176/176 [==============================] - 1s 3ms/step - loss: 0.3891 - accuracy: 0.8178\n",
      "Epoch 28/100\n",
      "176/176 [==============================] - 1s 3ms/step - loss: 0.3863 - accuracy: 0.8180\n",
      "Epoch 29/100\n",
      "176/176 [==============================] - 1s 3ms/step - loss: 0.3866 - accuracy: 0.8199\n",
      "Epoch 30/100\n",
      "176/176 [==============================] - 1s 3ms/step - loss: 0.3857 - accuracy: 0.8169\n",
      "Epoch 31/100\n",
      "176/176 [==============================] - 1s 3ms/step - loss: 0.3849 - accuracy: 0.8176\n",
      "Epoch 32/100\n",
      "176/176 [==============================] - 1s 3ms/step - loss: 0.3841 - accuracy: 0.8158\n",
      "Epoch 33/100\n",
      "176/176 [==============================] - 1s 3ms/step - loss: 0.3823 - accuracy: 0.8185\n",
      "Epoch 34/100\n",
      "176/176 [==============================] - 1s 3ms/step - loss: 0.3834 - accuracy: 0.8196\n",
      "Epoch 35/100\n",
      "176/176 [==============================] - 1s 3ms/step - loss: 0.3821 - accuracy: 0.8192\n",
      "Epoch 36/100\n",
      "176/176 [==============================] - 0s 3ms/step - loss: 0.3814 - accuracy: 0.8197\n",
      "Epoch 37/100\n",
      "176/176 [==============================] - 0s 3ms/step - loss: 0.3806 - accuracy: 0.8203\n",
      "Epoch 38/100\n",
      "176/176 [==============================] - 1s 3ms/step - loss: 0.3801 - accuracy: 0.8190\n",
      "Epoch 39/100\n",
      "176/176 [==============================] - 1s 4ms/step - loss: 0.3802 - accuracy: 0.8187\n",
      "Epoch 40/100\n",
      "176/176 [==============================] - 1s 3ms/step - loss: 0.3794 - accuracy: 0.8196\n",
      "Epoch 41/100\n",
      "176/176 [==============================] - 0s 3ms/step - loss: 0.3790 - accuracy: 0.8224\n",
      "Epoch 42/100\n",
      "176/176 [==============================] - 1s 3ms/step - loss: 0.3775 - accuracy: 0.8215\n",
      "Epoch 43/100\n",
      "176/176 [==============================] - 1s 3ms/step - loss: 0.3785 - accuracy: 0.8178\n",
      "Epoch 44/100\n",
      "176/176 [==============================] - 1s 3ms/step - loss: 0.3765 - accuracy: 0.8217\n",
      "Epoch 45/100\n",
      "176/176 [==============================] - 1s 3ms/step - loss: 0.3765 - accuracy: 0.8213\n",
      "Epoch 46/100\n",
      "176/176 [==============================] - 0s 3ms/step - loss: 0.3769 - accuracy: 0.8222\n",
      "Epoch 47/100\n",
      "176/176 [==============================] - 0s 3ms/step - loss: 0.3761 - accuracy: 0.8206\n",
      "Epoch 48/100\n",
      "176/176 [==============================] - 0s 3ms/step - loss: 0.3752 - accuracy: 0.8196\n",
      "Epoch 49/100\n",
      "176/176 [==============================] - 1s 3ms/step - loss: 0.3739 - accuracy: 0.8229\n",
      "Epoch 50/100\n",
      "176/176 [==============================] - 1s 3ms/step - loss: 0.3735 - accuracy: 0.8235\n",
      "Epoch 51/100\n",
      "176/176 [==============================] - 1s 3ms/step - loss: 0.3728 - accuracy: 0.8240\n",
      "Epoch 52/100\n",
      "176/176 [==============================] - 1s 3ms/step - loss: 0.3715 - accuracy: 0.8235\n",
      "Epoch 53/100\n",
      "176/176 [==============================] - 1s 3ms/step - loss: 0.3720 - accuracy: 0.8274\n",
      "Epoch 54/100\n",
      "176/176 [==============================] - 0s 3ms/step - loss: 0.3722 - accuracy: 0.8251\n",
      "Epoch 55/100\n",
      "176/176 [==============================] - 0s 3ms/step - loss: 0.3702 - accuracy: 0.8247\n",
      "Epoch 56/100\n",
      "176/176 [==============================] - 0s 3ms/step - loss: 0.3710 - accuracy: 0.8261\n",
      "Epoch 57/100\n",
      "176/176 [==============================] - 0s 3ms/step - loss: 0.3708 - accuracy: 0.8249\n",
      "Epoch 58/100\n",
      "176/176 [==============================] - 1s 3ms/step - loss: 0.3704 - accuracy: 0.8233\n",
      "Epoch 59/100\n",
      "176/176 [==============================] - 0s 3ms/step - loss: 0.3690 - accuracy: 0.8254\n",
      "Epoch 60/100\n",
      "176/176 [==============================] - 0s 3ms/step - loss: 0.3685 - accuracy: 0.8251\n",
      "Epoch 61/100\n",
      "176/176 [==============================] - 1s 3ms/step - loss: 0.3683 - accuracy: 0.8217\n",
      "Epoch 62/100\n",
      "176/176 [==============================] - 0s 3ms/step - loss: 0.3679 - accuracy: 0.8258\n",
      "Epoch 63/100\n",
      "176/176 [==============================] - 0s 3ms/step - loss: 0.3663 - accuracy: 0.8272\n",
      "Epoch 64/100\n",
      "176/176 [==============================] - 0s 3ms/step - loss: 0.3666 - accuracy: 0.8276\n",
      "Epoch 65/100\n",
      "176/176 [==============================] - 0s 3ms/step - loss: 0.3652 - accuracy: 0.8284\n",
      "Epoch 66/100\n",
      "176/176 [==============================] - 0s 3ms/step - loss: 0.3651 - accuracy: 0.8260\n",
      "Epoch 67/100\n",
      "176/176 [==============================] - 1s 3ms/step - loss: 0.3653 - accuracy: 0.8277\n",
      "Epoch 68/100\n",
      "176/176 [==============================] - 0s 3ms/step - loss: 0.3652 - accuracy: 0.8276\n",
      "Epoch 69/100\n",
      "176/176 [==============================] - 1s 3ms/step - loss: 0.3641 - accuracy: 0.8258\n",
      "Epoch 70/100\n",
      "176/176 [==============================] - 1s 3ms/step - loss: 0.3639 - accuracy: 0.8251\n",
      "Epoch 71/100\n",
      "176/176 [==============================] - 1s 3ms/step - loss: 0.3634 - accuracy: 0.8274\n",
      "Epoch 72/100\n",
      "176/176 [==============================] - 1s 3ms/step - loss: 0.3635 - accuracy: 0.8293\n",
      "Epoch 73/100\n",
      "176/176 [==============================] - 1s 4ms/step - loss: 0.3627 - accuracy: 0.8293\n",
      "Epoch 74/100\n",
      "176/176 [==============================] - 1s 3ms/step - loss: 0.3620 - accuracy: 0.8276\n",
      "Epoch 75/100\n",
      "176/176 [==============================] - 1s 3ms/step - loss: 0.3615 - accuracy: 0.8286\n",
      "Epoch 76/100\n",
      "176/176 [==============================] - 1s 3ms/step - loss: 0.3630 - accuracy: 0.8308\n",
      "Epoch 77/100\n",
      "176/176 [==============================] - 1s 3ms/step - loss: 0.3612 - accuracy: 0.8290\n",
      "Epoch 78/100\n",
      "176/176 [==============================] - 1s 3ms/step - loss: 0.3604 - accuracy: 0.8295\n",
      "Epoch 79/100\n",
      "176/176 [==============================] - 1s 3ms/step - loss: 0.3604 - accuracy: 0.8297\n",
      "Epoch 80/100\n",
      "176/176 [==============================] - 1s 3ms/step - loss: 0.3599 - accuracy: 0.8311\n",
      "Epoch 81/100\n"
     ]
    },
    {
     "name": "stdout",
     "output_type": "stream",
     "text": [
      "176/176 [==============================] - 1s 3ms/step - loss: 0.3596 - accuracy: 0.8315\n",
      "Epoch 82/100\n",
      "176/176 [==============================] - 1s 3ms/step - loss: 0.3594 - accuracy: 0.8293\n",
      "Epoch 83/100\n",
      "176/176 [==============================] - 1s 3ms/step - loss: 0.3585 - accuracy: 0.8302\n",
      "Epoch 84/100\n",
      "176/176 [==============================] - 1s 3ms/step - loss: 0.3583 - accuracy: 0.8300\n",
      "Epoch 85/100\n",
      "176/176 [==============================] - 1s 3ms/step - loss: 0.3593 - accuracy: 0.8293\n",
      "Epoch 86/100\n",
      "176/176 [==============================] - 1s 3ms/step - loss: 0.3574 - accuracy: 0.8306\n",
      "Epoch 87/100\n",
      "176/176 [==============================] - 1s 3ms/step - loss: 0.3570 - accuracy: 0.8324\n",
      "Epoch 88/100\n",
      "176/176 [==============================] - 1s 3ms/step - loss: 0.3572 - accuracy: 0.8293\n",
      "Epoch 89/100\n",
      "176/176 [==============================] - 0s 3ms/step - loss: 0.3572 - accuracy: 0.8292\n",
      "Epoch 90/100\n",
      "176/176 [==============================] - 1s 3ms/step - loss: 0.3564 - accuracy: 0.8338\n",
      "Epoch 91/100\n",
      "176/176 [==============================] - 1s 3ms/step - loss: 0.3561 - accuracy: 0.8306\n",
      "Epoch 92/100\n",
      "176/176 [==============================] - 0s 3ms/step - loss: 0.3561 - accuracy: 0.8327\n",
      "Epoch 93/100\n",
      "176/176 [==============================] - 1s 3ms/step - loss: 0.3555 - accuracy: 0.8336\n",
      "Epoch 94/100\n",
      "176/176 [==============================] - 0s 3ms/step - loss: 0.3537 - accuracy: 0.8325\n",
      "Epoch 95/100\n",
      "176/176 [==============================] - 1s 3ms/step - loss: 0.3542 - accuracy: 0.8320\n",
      "Epoch 96/100\n",
      "176/176 [==============================] - 1s 3ms/step - loss: 0.3542 - accuracy: 0.8322\n",
      "Epoch 97/100\n",
      "176/176 [==============================] - 1s 3ms/step - loss: 0.3530 - accuracy: 0.8327\n",
      "Epoch 98/100\n",
      "176/176 [==============================] - 1s 3ms/step - loss: 0.3525 - accuracy: 0.8332\n",
      "Epoch 99/100\n",
      "176/176 [==============================] - 1s 3ms/step - loss: 0.3531 - accuracy: 0.8357\n",
      "Epoch 100/100\n",
      "176/176 [==============================] - 1s 3ms/step - loss: 0.3521 - accuracy: 0.8341\n",
      "44/44 [==============================] - 0s 3ms/step\n"
     ]
    }
   ],
   "source": [
    "# Training the model\n",
    "X_train = X_train.astype('float32')\n",
    "y_train = y_train.astype('int32')\n",
    "X_test = X_test.astype('float32')\n",
    "y_test = y_test.astype('int32')\n",
    "model_ann.fit(X_train, y_train, epochs=100)\n",
    "ann_pred_prob = model_ann.predict(X_test)\n",
    "ann_pred = np.round(ann_pred_prob).astype(int)\n",
    "accuracy_ann = accuracy_score(y_test, ann_pred)\n",
    "classification_report_ann = classification_report(y_test, ann_pred)"
   ]
  },
  {
   "cell_type": "markdown",
   "id": "4761ae47",
   "metadata": {},
   "source": [
    "The loss value represents the error between the predicted and the correct values, and the accuracy value shows the proportion of correctly classified samples in the training data. As the epoch goes on, the goal is to minimize the loss and maximize the accuracy."
   ]
  },
  {
   "cell_type": "markdown",
   "id": "ca6d153b",
   "metadata": {},
   "source": [
    "# Results"
   ]
  },
  {
   "cell_type": "markdown",
   "id": "923d284e",
   "metadata": {},
   "source": [
    "Comparing the Accuracies of the models"
   ]
  },
  {
   "cell_type": "markdown",
   "id": "17782ceb",
   "metadata": {},
   "source": [
    "The accuracy score indicates the overall correctness of the model's predictions."
   ]
  },
  {
   "cell_type": "code",
   "execution_count": 38,
   "id": "5a0c79dd",
   "metadata": {},
   "outputs": [
    {
     "name": "stdout",
     "output_type": "stream",
     "text": [
      "Accuracy:\n",
      "Logistic Regression: 0.7874911158493249\n",
      "Random Forest: 0.7889125799573561\n",
      "SVM: 0.7846481876332623\n",
      "Decision Tree: 0.7199715707178393\n",
      "Artificial Neural Network (ANN): 0.7803837953091685\n"
     ]
    }
   ],
   "source": [
    "# Compare accuracy\n",
    "print(\"Accuracy:\")\n",
    "print(\"Logistic Regression:\", accuracy_lr)\n",
    "print(\"Random Forest:\", accuracy_rf)\n",
    "print(\"SVM:\", accuracy_svm)\n",
    "print(\"Decision Tree:\", accuracy_dt)\n",
    "print(\"Artificial Neural Network (ANN):\", accuracy_ann)"
   ]
  },
  {
   "cell_type": "markdown",
   "id": "c3cc9f74",
   "metadata": {},
   "source": [
    "The Logistic Regression model gives an accuracy of approximately 78.74%, which means that the model has correctly predicted the churn or non-churn status of customers from the dataset about 78.74% of the time.\n",
    "\n",
    "The Random Forest model gives an accuracy of approximately 78.89%. Like the Logistic Regression, the Random Forest model correctly predicts the churn or non-churn status of customers from the dataset about 78.89% of the time.\n",
    "In this case it has slightly better performance than the Logistic Regression model.\n",
    "\n",
    "The Support Vector Machine (SVM) model gives an accuracy of approximately 78.46%. It performs well on this dataset, with an accuracy score closer to the other models.It properly classifies the churn or non-churn status of customers about 78.46% of the time.\n",
    "\n",
    "The Decision Tree model gives an accuracy of approximately 71.99%. In this case,the model has a lower accuracy compared to the other models, which suggests that it may not capture the complicated relations in the dataset as effectively as the other models.\n",
    "\n",
    "The ANN model gives an accuracy of approximately 78%, comparable to the first three models."
   ]
  },
  {
   "cell_type": "markdown",
   "id": "c02a6db6",
   "metadata": {},
   "source": [
    "Compairing the Classification Reports for the models"
   ]
  },
  {
   "cell_type": "markdown",
   "id": "8d578f7c",
   "metadata": {},
   "source": [
    "The classification report provides an evaluation of the performance of each model used on the dataset like precision, recall, F1-score, support, and accuracy. These help assess the models' ability to properly classify churned and not churned instances in the dataset.\n",
    "The Precision is the ratio of proper predicted positive instances (churned customers) to the total predicted positive instances.\n",
    "Recall is the ratio of correctly predicted positive instances to the actual positive instances.\n",
    "The F1-score is the harmonic mean of precision and recall, providing a balanced measure between the two."
   ]
  },
  {
   "cell_type": "code",
   "execution_count": 39,
   "id": "49a09f74",
   "metadata": {},
   "outputs": [
    {
     "name": "stdout",
     "output_type": "stream",
     "text": [
      "Classification Report:\n",
      "Logistic Regression:\n",
      "               precision    recall  f1-score   support\n",
      "\n",
      "           0       0.83      0.89      0.86      1033\n",
      "           1       0.62      0.51      0.56       374\n",
      "\n",
      "    accuracy                           0.79      1407\n",
      "   macro avg       0.73      0.70      0.71      1407\n",
      "weighted avg       0.78      0.79      0.78      1407\n",
      "\n",
      "Random Forest:\n",
      "               precision    recall  f1-score   support\n",
      "\n",
      "           0       0.82      0.91      0.86      1033\n",
      "           1       0.65      0.45      0.53       374\n",
      "\n",
      "    accuracy                           0.79      1407\n",
      "   macro avg       0.73      0.68      0.70      1407\n",
      "weighted avg       0.77      0.79      0.78      1407\n",
      "\n",
      "SVM:\n",
      "               precision    recall  f1-score   support\n",
      "\n",
      "           0       0.83      0.89      0.86      1033\n",
      "           1       0.62      0.49      0.55       374\n",
      "\n",
      "    accuracy                           0.78      1407\n",
      "   macro avg       0.72      0.69      0.70      1407\n",
      "weighted avg       0.77      0.78      0.78      1407\n",
      "\n",
      "Decision Tree:\n",
      "               precision    recall  f1-score   support\n",
      "\n",
      "           0       0.82      0.79      0.81      1033\n",
      "           1       0.48      0.53      0.50       374\n",
      "\n",
      "    accuracy                           0.72      1407\n",
      "   macro avg       0.65      0.66      0.65      1407\n",
      "weighted avg       0.73      0.72      0.72      1407\n",
      "\n",
      "Artificial Neural Network:\n",
      "               precision    recall  f1-score   support\n",
      "\n",
      "           0       0.84      0.87      0.85      1033\n",
      "           1       0.60      0.54      0.57       374\n",
      "\n",
      "    accuracy                           0.78      1407\n",
      "   macro avg       0.72      0.70      0.71      1407\n",
      "weighted avg       0.77      0.78      0.78      1407\n",
      "\n"
     ]
    }
   ],
   "source": [
    "print(\"Classification Report:\")\n",
    "print(\"Logistic Regression:\\n\", classification_report_lr)\n",
    "print(\"Random Forest:\\n\", classification_report_rf)\n",
    "print(\"SVM:\\n\", classification_report_svm)\n",
    "print(\"Decision Tree:\\n\", classification_report_dt)\n",
    "print(\"Artificial Neural Network:\\n\", classification_report_ann)"
   ]
  },
  {
   "cell_type": "markdown",
   "id": "e52458e2",
   "metadata": {},
   "source": [
    "Logistic Regression:\n",
    "Precision of 0.83 for class 0 (not churned customers) and 0.62 for class 1 (churned customers). If it predicts a customer as not churned, it is true 83% of the time. Similarly, if it predicts a customer as churned, it is true 62% of the time.\n",
    "Recall of 0.89 for class 0 and 0.51 for class 1. It correctly identified 89% of the not churned customers and 51% of the churned customers.\n",
    "F1-score is 0.86 for class 0 and 0.56 for class 1.\n",
    "Accuracy of 0.79, implies correct classification for 79% of the instances in the test set.\n",
    "\n",
    "Random Forest:\n",
    "Precision of 0.82 for class 0 and 0.65 for class 1.\n",
    "Recall of 0.91 for class 0 and 0.45 for class 1.\n",
    "F1-score for class 0 is 0.86, and for class 1, it is 0.53.\n",
    "Accuracy is 0.79.\n",
    "\n",
    "SVM:\n",
    "Precision of 0.83 for class 0 and 0.62 for class 1.\n",
    "Recall of 0.89 for class 0 and 0.49 for class 1.\n",
    "F1-score for class 0 is 0.86, and for class 1, it is 0.55.\n",
    "Accuracy of the model is 0.78.\n",
    "\n",
    "Decision Tree:\n",
    "Precision of 0.82 for class 0 and 0.47 for class 1.\n",
    "Recall of 0.80 for class 0 and 0.51 for class 1.\n",
    "F1-score for class 0 is 0.81, and for class 1, it is 0.49.\n",
    "Accuracy of the model is 0.72.\n",
    "\n",
    "Artificial Neural Network (ANN):\n",
    "Precision of 0.84 for class 0 and 0.63 for class 1.\n",
    "Recall of 0.91 for class 0 and 0.44 for class 1.\n",
    "F1-score for class 0 is 0.86, and for class 1, it is 0.52.\n",
    "Accuracy of the model is 0.78."
   ]
  },
  {
   "cell_type": "markdown",
   "id": "359be352",
   "metadata": {},
   "source": [
    "Comparing the Confusion Matrices of the models"
   ]
  },
  {
   "cell_type": "markdown",
   "id": "81f3b900",
   "metadata": {},
   "source": [
    "The rows represent the actual classes, and the columns represent the predicted classes. Here's how we can interpret the values in each matrix:\n",
    "True Positive (TP): The number of instances correctly predicted as positive (churned customers) by the model.\n",
    "True Negative (TN): The number of instances correctly predicted as negative (non-churned customers) by the model.\n",
    "False Positive (FP): The number of instances incorrectly predicted as positive (churned customers) by the model.\n",
    "False Negative (FN): The number of instances incorrectly predicted as negative (non-churned customers) by the model."
   ]
  },
  {
   "cell_type": "markdown",
   "id": "55a22e06",
   "metadata": {},
   "source": [
    "Logistic Regression Confusion Matrix"
   ]
  },
  {
   "cell_type": "code",
   "execution_count": 40,
   "id": "969ab0d9",
   "metadata": {
    "scrolled": true
   },
   "outputs": [
    {
     "data": {
      "image/png": "[encoded data removed]",
      "text/plain": [
       "<Figure size 400x300 with 2 Axes>"
      ]
     },
     "metadata": {},
     "output_type": "display_data"
    }
   ],
   "source": [
    "# Plot confusion matrix\n",
    "plt.figure(figsize=(4, 3))\n",
    "sns.heatmap(confusion_matrix_lr, annot=True, fmt=\"d\", linecolor=\"k\", linewidths=3)\n",
    "plt.title(\"Logistic Regression Confusion Matrix\")\n",
    "plt.show()"
   ]
  },
  {
   "cell_type": "markdown",
   "id": "d6021780",
   "metadata": {},
   "source": [
    "True Negative (TN): 916\n",
    "\n",
    "False Positive (FP): 117\n",
    "\n",
    "False Negative (FN): 182\n",
    "\n",
    "True Positive (TP):192 \n",
    "\n",
    "Logistic Regression Error Rate: (117 + 182) / (916 + 117 + 182 + 192) = 0.2125 or 21.25%"
   ]
  },
  {
   "cell_type": "markdown",
   "id": "b3f67fb8",
   "metadata": {},
   "source": [
    "Random Forest Confusion Matrix"
   ]
  },
  {
   "cell_type": "code",
   "execution_count": 41,
   "id": "5f740fbf",
   "metadata": {
    "scrolled": true
   },
   "outputs": [
    {
     "data": {
      "image/png": "[encoded data removed]",
      "text/plain": [
       "<Figure size 400x300 with 2 Axes>"
      ]
     },
     "metadata": {},
     "output_type": "display_data"
    }
   ],
   "source": [
    "plt.figure(figsize=(4, 3))\n",
    "sns.heatmap(confusion_matrix_rf, annot=True, fmt=\"d\", linecolor=\"k\", linewidths=3)\n",
    "plt.title(\"Random Forest Confusion Matrix\")\n",
    "plt.show()"
   ]
  },
  {
   "cell_type": "markdown",
   "id": "51db6066",
   "metadata": {},
   "source": [
    "True Negative (TN): 942\n",
    "\n",
    "False Positive (FP): 91\n",
    "\n",
    "False Negative (FN): 206\n",
    "\n",
    "True Positive (TP): 168\n",
    "\n",
    "Random Forest Error Rate: (91 + 206) / (942 + 91 + 206 + 168) = 0.228 or 22.8%"
   ]
  },
  {
   "cell_type": "markdown",
   "id": "8d703330",
   "metadata": {},
   "source": [
    "SVM Confusion Matrix"
   ]
  },
  {
   "cell_type": "code",
   "execution_count": 42,
   "id": "a8df87e6",
   "metadata": {
    "scrolled": true
   },
   "outputs": [
    {
     "data": {
      "image/png": "[encoded data removed]",
      "text/plain": [
       "<Figure size 400x300 with 2 Axes>"
      ]
     },
     "metadata": {},
     "output_type": "display_data"
    }
   ],
   "source": [
    "plt.figure(figsize=(4, 3))\n",
    "sns.heatmap(confusion_matrix_svm, annot=True, fmt=\"d\", linecolor=\"k\", linewidths=3)\n",
    "plt.title(\"SVM Confusion Matrix\")\n",
    "plt.show()"
   ]
  },
  {
   "cell_type": "markdown",
   "id": "f23bc3e8",
   "metadata": {},
   "source": [
    "True Negative (TN): 921\n",
    "\n",
    "False Positive (FP): 112\n",
    "\n",
    "False Negative (FN): 191\n",
    "\n",
    "True Positive (TP): 183\n",
    "\n",
    "SVM Error Rate: (112 + 191) / (921 + 112 + 191 + 183) = 0.227 or 22.7%"
   ]
  },
  {
   "cell_type": "markdown",
   "id": "741921de",
   "metadata": {},
   "source": [
    "Decision Tree Confusion Matrix"
   ]
  },
  {
   "cell_type": "code",
   "execution_count": 43,
   "id": "66ef1a0a",
   "metadata": {
    "scrolled": true
   },
   "outputs": [
    {
     "data": {
      "image/png": "[encoded data removed]",
      "text/plain": [
       "<Figure size 400x300 with 2 Axes>"
      ]
     },
     "metadata": {},
     "output_type": "display_data"
    }
   ],
   "source": [
    "plt.figure(figsize=(4, 3))\n",
    "sns.heatmap(confusion_matrix_dt, annot=True, fmt=\"d\", linecolor=\"k\", linewidths=3)\n",
    "plt.title(\"Decision Tree Confusion Matrix\")\n",
    "plt.show()"
   ]
  },
  {
   "cell_type": "markdown",
   "id": "1240c033",
   "metadata": {},
   "source": [
    "True Negative (TN): 815\n",
    "\n",
    "False Positive (FP): 218\n",
    "\n",
    "False Negative (FN): 176\n",
    "\n",
    "True Positive (TP): 198\n",
    "\n",
    "Decision Tree Error Rate: (218 + 176) / (815 + 218 + 176 + 198) =0.28 or 28.00%"
   ]
  },
  {
   "cell_type": "markdown",
   "id": "52b5a7b8",
   "metadata": {},
   "source": [
    "ROC Curve Plot"
   ]
  },
  {
   "cell_type": "markdown",
   "id": "f73346fb",
   "metadata": {},
   "source": [
    "The Receiver Operating Characteristic (ROC) plot is a graphical representation of the performance of a classification model. It displays the relationship between the True Positive Rate (TPR) and the False Positive Rate (FPR) as the classification threshold varies."
   ]
  },
  {
   "cell_type": "code",
   "execution_count": 44,
   "id": "ce35ca26",
   "metadata": {},
   "outputs": [
    {
     "data": {
      "image/png": "[encoded data removed]",
      "text/plain": [
       "<Figure size 800x600 with 1 Axes>"
      ]
     },
     "metadata": {},
     "output_type": "display_data"
    }
   ],
   "source": [
    "# Calculate False Positive Rate (FPR) and True Positive Rate (TPR) for each model\n",
    "fpr_lr, tpr_lr, _ = roc_curve(y_test, y_pred_prob_lr)\n",
    "fpr_rf, tpr_rf, _ = roc_curve(y_test, y_pred_prob_rf)\n",
    "fpr_svm, tpr_svm, _ = roc_curve(y_test, svm_pred)\n",
    "fpr_dt, tpr_dt, _ = roc_curve(y_test, dt_pred)\n",
    "\n",
    "# Calculate Area Under the Curve (AUC) for each model\n",
    "auc_lr = auc(fpr_lr, tpr_lr)\n",
    "auc_rf = auc(fpr_rf, tpr_rf)\n",
    "auc_svm = auc(fpr_svm, tpr_svm)\n",
    "auc_dt = auc(fpr_dt, tpr_dt)\n",
    "\n",
    "# Plot ROC curves\n",
    "plt.figure(figsize=(8, 6))\n",
    "plt.plot(fpr_lr, tpr_lr, label='Logistic Regression (AUC = %0.2f)' % auc_lr, color='r')\n",
    "plt.plot(fpr_rf, tpr_rf, label='Random Forest (AUC = %0.2f)' % auc_rf, color='g')\n",
    "plt.plot(fpr_svm, tpr_svm, label='SVM (AUC = %0.2f)' % auc_svm, color='b')\n",
    "plt.plot(fpr_dt, tpr_dt, label='Decision Tree (AUC = %0.2f)' % auc_dt, color='y')\n",
    "\n",
    "plt.plot([0, 1], [0, 1], 'k--')\n",
    "plt.xlim([0, 1])\n",
    "plt.ylim([0, 1])\n",
    "plt.xlabel('False Positive Rate')\n",
    "plt.ylabel('True Positive Rate')\n",
    "plt.title('Receiver Operating Characteristic (ROC) Curve')\n",
    "plt.legend(loc='lower right')\n",
    "plt.show()"
   ]
  },
  {
   "cell_type": "markdown",
   "id": "6bdc6768",
   "metadata": {},
   "source": [
    "The ROC curve for Logistic Regression is nearer to the top-left corner of the plot, implying that it has a better performance than other models. AUC value of 0.83 implies that the Logistic Regression model is able to differentiate the positive classes from negative classes.\n",
    "\n",
    "Random Forest (AUC = 0.83):\n",
    "The ROC curve for Random Forest is almost coinciding with the Logistic Regression curve. Its AUC value suggests model's distinguishing capability similar to logistic regression.\n",
    "\n",
    "SVM (AUC = 0.69):\n",
    "The ROC curve for SVM lies below the random forest model  throughout. Its AUC value of 0.69 means lower discriminating ability than the Random Forest model.\n",
    "\n",
    "Decision Tree (AUC = 0.65):\n",
    "Its ROC curve is the furthest from the top left corner. Its AUC value of 0.65 turns out to be the lowest. The Decision Tree model has a limited ability to distinguish between the positive and negative classes.\n",
    "\n",
    "In summary, the ROC plot allows us to compare the performance of different classification models based on their AUC values. A higher AUC value indicates a better discriminatory ability of the model, while a lower AUC value suggests a weaker performance. In this case, the Logistic Regression model and Random Forest model demonstrate the highest AUC value, indicating their superior performance compared to the other models."
   ]
  },
  {
   "cell_type": "markdown",
   "id": "e49226b2",
   "metadata": {},
   "source": [
    "ANN Model Evaluation"
   ]
  },
  {
   "cell_type": "markdown",
   "id": "b16bec3c",
   "metadata": {},
   "source": [
    "For model evaluation we will use test data."
   ]
  },
  {
   "cell_type": "code",
   "execution_count": 45,
   "id": "8bdf3438",
   "metadata": {
    "scrolled": true
   },
   "outputs": [
    {
     "name": "stdout",
     "output_type": "stream",
     "text": [
      "float32\n",
      "int32\n",
      "44/44 [==============================] - 0s 3ms/step - loss: 0.4944 - accuracy: 0.7804\n",
      "Loss: 0.4943535029888153\n",
      "Accuracy: 0.7803837656974792\n"
     ]
    }
   ],
   "source": [
    "X_test = np.array(X_test)\n",
    "y_test = np.array(y_test)\n",
    "print(X_test.dtype)\n",
    "print(y_test.dtype)\n",
    "X_test = X_test.astype('float32')\n",
    "y_test = y_test.astype('int32')\n",
    "# Evaluate the model on the test set\n",
    "loss, accuracy = model_ann.evaluate(X_test, y_test)\n",
    "print(\"Loss:\", loss)\n",
    "print(\"Accuracy:\", accuracy)"
   ]
  },
  {
   "cell_type": "markdown",
   "id": "7e70ad53",
   "metadata": {},
   "source": [
    "The ANN model has thrown up a loss of 0.4944   and an accuracy of 0.7804.\n",
    "Lower loss values indicates the model fits the data well. The accuracy of approximately 0.7804 implies that the model correctly predicts the churn status for about 78% of the customers in the test set."
   ]
  },
  {
   "cell_type": "markdown",
   "id": "f0e1effb",
   "metadata": {},
   "source": [
    "verifing the ANN model predictions on test data."
   ]
  },
  {
   "cell_type": "code",
   "execution_count": 46,
   "id": "ae62e73f",
   "metadata": {},
   "outputs": [
    {
     "name": "stdout",
     "output_type": "stream",
     "text": [
      "44/44 [==============================] - 0s 3ms/step\n"
     ]
    },
    {
     "data": {
      "text/plain": [
       "array([[0.00193265],\n",
       "       [0.09006204],\n",
       "       [0.7445948 ],\n",
       "       [0.05213553],\n",
       "       [0.2942731 ]], dtype=float32)"
      ]
     },
     "execution_count": 46,
     "metadata": {},
     "output_type": "execute_result"
    }
   ],
   "source": [
    "predictions = model_ann.predict(X_test)\n",
    "predictions[:5]"
   ]
  },
  {
   "cell_type": "markdown",
   "id": "7023a2aa",
   "metadata": {},
   "source": [
    " The predictions on the test data are in 2D array with values ranging from 0 to 1. So in order to get the binary format we will use 0.5 threshold, so anything more than 0.5 will be 1(churn-yes) else 0(churn-no)"
   ]
  },
  {
   "cell_type": "code",
   "execution_count": 47,
   "id": "c69101c0",
   "metadata": {},
   "outputs": [
    {
     "data": {
      "text/plain": [
       "[0, 0, 1, 0, 0, 1, 0, 1, 0, 0]"
      ]
     },
     "execution_count": 47,
     "metadata": {},
     "output_type": "execute_result"
    }
   ],
   "source": [
    "y_pred = []\n",
    "\n",
    "for val in predictions:\n",
    "    if val > 0.5:\n",
    "        y_pred.append(1)\n",
    "    else:\n",
    "        y_pred.append(0)\n",
    "            \n",
    "y_pred[:10]"
   ]
  },
  {
   "cell_type": "markdown",
   "id": "f7ee504c",
   "metadata": {},
   "source": [
    "compairing true values and predicted values "
   ]
  },
  {
   "cell_type": "code",
   "execution_count": 48,
   "id": "bf331b33",
   "metadata": {},
   "outputs": [
    {
     "data": {
      "text/html": [
       "<div>\n",
       "<style scoped>\n",
       "    .dataframe tbody tr th:only-of-type {\n",
       "        vertical-align: middle;\n",
       "    }\n",
       "\n",
       "    .dataframe tbody tr th {\n",
       "        vertical-align: top;\n",
       "    }\n",
       "\n",
       "    .dataframe thead th {\n",
       "        text-align: right;\n",
       "    }\n",
       "</style>\n",
       "<table border=\"1\" class=\"dataframe\">\n",
       "  <thead>\n",
       "    <tr style=\"text-align: right;\">\n",
       "      <th></th>\n",
       "      <th>y_test</th>\n",
       "      <th>y_pred</th>\n",
       "    </tr>\n",
       "  </thead>\n",
       "  <tbody>\n",
       "    <tr>\n",
       "      <th>0</th>\n",
       "      <td>0</td>\n",
       "      <td>0</td>\n",
       "    </tr>\n",
       "    <tr>\n",
       "      <th>1</th>\n",
       "      <td>0</td>\n",
       "      <td>0</td>\n",
       "    </tr>\n",
       "    <tr>\n",
       "      <th>2</th>\n",
       "      <td>1</td>\n",
       "      <td>1</td>\n",
       "    </tr>\n",
       "    <tr>\n",
       "      <th>3</th>\n",
       "      <td>0</td>\n",
       "      <td>0</td>\n",
       "    </tr>\n",
       "    <tr>\n",
       "      <th>4</th>\n",
       "      <td>0</td>\n",
       "      <td>0</td>\n",
       "    </tr>\n",
       "    <tr>\n",
       "      <th>5</th>\n",
       "      <td>0</td>\n",
       "      <td>1</td>\n",
       "    </tr>\n",
       "    <tr>\n",
       "      <th>6</th>\n",
       "      <td>0</td>\n",
       "      <td>0</td>\n",
       "    </tr>\n",
       "    <tr>\n",
       "      <th>7</th>\n",
       "      <td>0</td>\n",
       "      <td>1</td>\n",
       "    </tr>\n",
       "    <tr>\n",
       "      <th>8</th>\n",
       "      <td>0</td>\n",
       "      <td>0</td>\n",
       "    </tr>\n",
       "    <tr>\n",
       "      <th>9</th>\n",
       "      <td>0</td>\n",
       "      <td>0</td>\n",
       "    </tr>\n",
       "  </tbody>\n",
       "</table>\n",
       "</div>"
      ],
      "text/plain": [
       "   y_test  y_pred\n",
       "0       0       0\n",
       "1       0       0\n",
       "2       1       1\n",
       "3       0       0\n",
       "4       0       0\n",
       "5       0       1\n",
       "6       0       0\n",
       "7       0       1\n",
       "8       0       0\n",
       "9       0       0"
      ]
     },
     "execution_count": 48,
     "metadata": {},
     "output_type": "execute_result"
    }
   ],
   "source": [
    "my_data_true_pred = pd.DataFrame({'y_test':y_test, 'y_pred':y_pred}) \n",
    "my_data_true_pred[:10]"
   ]
  },
  {
   "cell_type": "markdown",
   "id": "af2ed2e7",
   "metadata": {},
   "source": [
    "Compairing the accuracy scores of all the models"
   ]
  },
  {
   "cell_type": "code",
   "execution_count": 49,
   "id": "75f36ed2",
   "metadata": {
    "scrolled": true
   },
   "outputs": [
    {
     "data": {
      "image/png": "[encoded data removed]",
      "text/plain": [
       "<Figure size 1000x200 with 1 Axes>"
      ]
     },
     "metadata": {},
     "output_type": "display_data"
    }
   ],
   "source": [
    "# Accuracy scores of the models\n",
    "accuracy_scores = [accuracy_lr, accuracy_rf, accuracy_svm, accuracy_dt, accuracy_ann]\n",
    "\n",
    "# Model names\n",
    "model_names = ['Logistic Regression', 'Random Forest', 'SVM', 'Decision Tree', 'ANN']\n",
    "\n",
    "# Create a bar plot\n",
    "plt.figure(figsize=(10,2))\n",
    "plt.bar(model_names, accuracy_scores, color='blue')\n",
    "plt.xlabel('Models')\n",
    "plt.ylabel('Accuracy')\n",
    "plt.title('Accuracy Scores of Different Models')\n",
    "plt.ylim([0.7, 0.8])  # Set the y-axis limits according to your data\n",
    "plt.xticks(rotation=45)\n",
    "\n",
    "# Display the plot\n",
    "plt.show()"
   ]
  },
  {
   "cell_type": "markdown",
   "id": "ae740536",
   "metadata": {},
   "source": [
    "The bar plot shows that Random Forest model has the highest accuracy, which is follwed by Logistic Regression, SVM, ANN and Decision Tree model in that order."
   ]
  },
  {
   "cell_type": "markdown",
   "id": "c2bab5fe",
   "metadata": {},
   "source": [
    "# Conclusion"
   ]
  },
  {
   "cell_type": "markdown",
   "id": "05465ece",
   "metadata": {},
   "source": [
    "Overall, the accuracy scores for the different models are all relatively high. This implies that all of the models are good at predicting customer churn. However, the Random Forest model has the highest accuracy score, followed by the Logistic Regression model, the SVM model, the ANN model and the decision tree model in that order."
   ]
  },
  {
   "cell_type": "markdown",
   "id": "428b0b52",
   "metadata": {},
   "source": [
    "Comparing the error ratings of the models, the Logistic Regression has the lowest error rate, which is followed by the SVM model,  the Random Forest model, and  the Decision Tree model which has the highest error rate. Therefore, based on the training dataset, the Logistic Regression model performs the best in terms of missclassification error being the least."
   ]
  },
  {
   "cell_type": "markdown",
   "id": "4255917e",
   "metadata": {},
   "source": [
    "According to the ROC, the Logistic Regression and Random Forest models have the highest AUC values,so they have superior performance compared to the other models."
   ]
  },
  {
   "cell_type": "markdown",
   "id": "feb732ab",
   "metadata": {},
   "source": [
    "# References"
   ]
  },
  {
   "cell_type": "markdown",
   "id": "2682e7a9",
   "metadata": {},
   "source": [
    "[Kaggle Notebook1](https://www.kaggle.com/code/bhartiprasad17/customer-churn-prediction),\n",
    "[Kaggle Notebook2](https://www.kaggle.com/code/satishgunjal/ann-to-predict-telco-customer-churn),\n",
    "[Kaggle Notebook3](https://www.kaggle.com/code/nutkanibloch/customer-churn-by-ann),\n",
    "[Kaggle Notebook4](https://www.kaggle.com/code/chinpattara/customer-churn-eda-modeling),\n",
    "[GitHub](https://github.com/codebasics/deep-learning-keras-tf-tutorial/blob/master/11_chrun_prediction/churn.ipynb)"
   ]
  }
 ],
 "metadata": {
  "kernelspec": {
   "display_name": "Python 3 (ipykernel)",
   "language": "python",
   "name": "python3"
  },
  "language_info": {
   "codemirror_mode": {
    "name": "ipython",
    "version": 3
   },
   "file_extension": ".py",
   "mimetype": "text/x-python",
   "name": "python",
   "nbconvert_exporter": "python",
   "pygments_lexer": "ipython3",
   "version": "3.9.16"
  }
 },
 "nbformat": 4,
 "nbformat_minor": 5
}
